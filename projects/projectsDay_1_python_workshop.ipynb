{
 "cells": [
  {
   "cell_type": "code",
   "execution_count": 1,
   "id": "16a85cfd-bb0a-4915-81da-27d52eb9007e",
   "metadata": {},
   "outputs": [
    {
     "name": "stdout",
     "output_type": "stream",
     "text": [
      "(9+12j)\n"
     ]
    }
   ],
   "source": [
    "x= 6 +7j\n",
    "y= 3 + 5j\n",
    "z= x+y\n",
    "print(z)"
   ]
  },
  {
   "cell_type": "code",
   "execution_count": null,
   "id": "7cdaa0b5-9f96-4c7d-b59b-7fe249938f60",
   "metadata": {},
   "outputs": [],
   "source": [
    "#modulus"
   ]
  },
  {
   "cell_type": "code",
   "execution_count": 2,
   "id": "57d632b1-4228-4bc5-b075-9435e5368c56",
   "metadata": {},
   "outputs": [
    {
     "name": "stdin",
     "output_type": "stream",
     "text": [
      " 56\n",
      " 25\n"
     ]
    },
    {
     "name": "stdout",
     "output_type": "stream",
     "text": [
      "5625\n"
     ]
    }
   ],
   "source": [
    " a = input ()\n",
    " b = input()\n",
    " c = a+b\n",
    "print(c)"
   ]
  },
  {
   "cell_type": "code",
   "execution_count": null,
   "id": "8543aaad-a6ff-4d42-b0ab-7ebc74e18f2e",
   "metadata": {},
   "outputs": [],
   "source": [
    "# exponent(^)(**)"
   ]
  },
  {
   "cell_type": "code",
   "execution_count": 3,
   "id": "9fa10d7e-64f5-48ec-b337-c313c19f1a83",
   "metadata": {},
   "outputs": [
    {
     "name": "stdout",
     "output_type": "stream",
     "text": [
      "4096\n"
     ]
    }
   ],
   "source": [
    "a = 4 \n",
    "print(a**6)"
   ]
  },
  {
   "cell_type": "code",
   "execution_count": null,
   "id": "b8302672-afc6-463c-bc93-b3b5bea0c822",
   "metadata": {},
   "outputs": [],
   "source": [
    "#flooe division "
   ]
  },
  {
   "cell_type": "code",
   "execution_count": 5,
   "id": "7ef539b9-6086-450d-b839-550265348954",
   "metadata": {},
   "outputs": [
    {
     "name": "stdout",
     "output_type": "stream",
     "text": [
      "7\n"
     ]
    }
   ],
   "source": [
    "a = 21\n",
    "b = 3\n",
    "print(a//b)"
   ]
  },
  {
   "cell_type": "code",
   "execution_count": null,
   "id": "7b6808c5-4e28-456a-9de6-c1135e97e4e5",
   "metadata": {},
   "outputs": [],
   "source": [
    "#comparision"
   ]
  },
  {
   "cell_type": "code",
   "execution_count": 6,
   "id": "7c050ab7-dbf9-448c-887c-22094fc38f38",
   "metadata": {},
   "outputs": [
    {
     "name": "stdout",
     "output_type": "stream",
     "text": [
      "True\n"
     ]
    }
   ],
   "source": [
    "x = 9 \n",
    "y = 9\n",
    "print(x==y)\n"
   ]
  },
  {
   "cell_type": "code",
   "execution_count": null,
   "id": "68019d4a-8650-4c3a-89e2-8a5467e472f3",
   "metadata": {},
   "outputs": [],
   "source": [
    "#assignment operater "
   ]
  },
  {
   "cell_type": "code",
   "execution_count": 9,
   "id": "2dc546cf-908a-46a2-b59c-b8c7c759b7dd",
   "metadata": {},
   "outputs": [
    {
     "name": "stdout",
     "output_type": "stream",
     "text": [
      "7\n"
     ]
    }
   ],
   "source": [
    "a = 7 \n",
    "a+=2   #a = a+2\n",
    "a-=2   #a = a-2\n",
    "a/=2   #a= a/2 \n",
    "print(a)"
   ]
  },
  {
   "cell_type": "code",
   "execution_count": null,
   "id": "a35bbb3e-647a-41ea-abb2-65690f673416",
   "metadata": {},
   "outputs": [],
   "source": [
    "#logical operatations "
   ]
  },
  {
   "cell_type": "code",
   "execution_count": 19,
   "id": "a6175f31-27a1-473b-925c-ae62015fe092",
   "metadata": {},
   "outputs": [
    {
     "name": "stdout",
     "output_type": "stream",
     "text": [
      "False\n",
      "False\n",
      "False\n",
      "True\n",
      "True\n",
      "True\n",
      "True\n",
      "True\n",
      "True\n",
      "False\n"
     ]
    }
   ],
   "source": [
    "a = 5 \n",
    "b = 2\n",
    "print(a>7 and b<7)\n",
    "print(a<7 and b>7)\n",
    "print(a>7 and b<7)\n",
    "print(a<7 and b<7)\n",
    "\n",
    "print(a>7 or b<7)\n",
    "print(a<7 or b>7)\n",
    "print(a>7 or  b<7)\n",
    "print(a<7  or b<7)\n",
    "\n",
    "\n",
    "\n",
    "print(not(a> 7)) \n",
    "print(not(a<7))"
   ]
  },
  {
   "cell_type": "code",
   "execution_count": null,
   "id": "5eb742ea-00e0-4b22-a292-3800de6bf93f",
   "metadata": {},
   "outputs": [],
   "source": [
    "# if and else  value "
   ]
  },
  {
   "cell_type": "code",
   "execution_count": 23,
   "id": "d5710be6-fee3-4c2d-916b-e6f78c901dd0",
   "metadata": {},
   "outputs": [
    {
     "name": "stdout",
     "output_type": "stream",
     "text": [
      "a is equal to 5\n"
     ]
    }
   ],
   "source": [
    "a = 5 \n",
    "if (a>5):\n",
    "    print(\"a is greater than 5\")\n",
    "elif(a==5):\n",
    "    print(\"a is equal to 5\")\n",
    "else:\n",
    "    print(\"a is smaller then 5\")\n",
    "    \n"
   ]
  },
  {
   "cell_type": "code",
   "execution_count": null,
   "id": "e8b7e438-2373-46c5-a1cf-967b84e83958",
   "metadata": {},
   "outputs": [],
   "source": [
    "# write a program to ask the input from the user and check weather the number is even or odd."
   ]
  },
  {
   "cell_type": "code",
   "execution_count": 28,
   "id": "ce6e8e01-8ddb-48bd-8340-1a0fd155d8bc",
   "metadata": {},
   "outputs": [
    {
     "name": "stdin",
     "output_type": "stream",
     "text": [
      "Enter a  number: 999\n"
     ]
    },
    {
     "name": "stdout",
     "output_type": "stream",
     "text": [
      "999 is odd number\n"
     ]
    }
   ],
   "source": [
    "a = int(input( \"Enter a  number:\"))\n",
    "if (a%2==0):\n",
    "    print(a, \" is even number\")\n",
    "else:\n",
    "    print(a, \"is odd number\")"
   ]
  },
  {
   "cell_type": "code",
   "execution_count": null,
   "id": "207587be-7ede-4b50-aae5-d4a641cf594e",
   "metadata": {},
   "outputs": [],
   "source": [
    "# write a program to ask user his percentage and display %80 is dist, %60-79 is 1st div, %30-59 is 2nd div, else fail."
   ]
  },
  {
   "cell_type": "code",
   "execution_count": 34,
   "id": "8a102619-f6e4-454e-bee7-98626c7c1c8a",
   "metadata": {},
   "outputs": [
    {
     "name": "stdin",
     "output_type": "stream",
     "text": [
      "Enter your percentage: 59\n"
     ]
    },
    {
     "name": "stdout",
     "output_type": "stream",
     "text": [
      "(2 Division) tm business garerea ramro banna sakxau \n"
     ]
    }
   ],
   "source": [
    "a = float(input(\"Enter your percentage:\"))\n",
    "if (a>=80):\n",
    "    print(\"(Distinction) failure bhayeko company ma kam garxau \")\n",
    "elif(a>59 and a<80):\n",
    "    print(\"(1st Division) tm tehi monthly 80 thousand samma salary khanxau aru khi hunna \")\n",
    "elif(a>=30 and a<60):\n",
    "    print(\"(2 Division) tm business gara ekdam ramro banna sakxau \")\n",
    "else:\n",
    "    print(\"sathi tmro  future bright xa  khi tns nagra!!!\")"
   ]
  },
  {
   "cell_type": "code",
   "execution_count": null,
   "id": "582ff500-2a3d-4b3c-8066-ab0debc6f7b5",
   "metadata": {},
   "outputs": [],
   "source": []
  }
 ],
 "metadata": {
  "kernelspec": {
   "display_name": "Python 3 (ipykernel)",
   "language": "python",
   "name": "python3"
  },
  "language_info": {
   "codemirror_mode": {
    "name": "ipython",
    "version": 3
   },
   "file_extension": ".py",
   "mimetype": "text/x-python",
   "name": "python",
   "nbconvert_exporter": "python",
   "pygments_lexer": "ipython3",
   "version": "3.12.3"
  }
 },
 "nbformat": 4,
 "nbformat_minor": 5
}

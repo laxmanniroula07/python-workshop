{
 "cells": [
  {
   "cell_type": "code",
   "execution_count": null,
   "id": "b6cd801c-1389-4f9e-a43e-08ee5bc10325",
   "metadata": {},
   "outputs": [],
   "source": [
    "#execption handling "
   ]
  },
  {
   "cell_type": "code",
   "execution_count": 4,
   "id": "88a7313d-ff56-4c94-b4ba-cc924f0ec705",
   "metadata": {},
   "outputs": [
    {
     "ename": "ZeroDivisionError",
     "evalue": "division by zero",
     "output_type": "error",
     "traceback": [
      "\u001b[1;31m---------------------------------------------------------------------------\u001b[0m",
      "\u001b[1;31mZeroDivisionError\u001b[0m                         Traceback (most recent call last)",
      "Cell \u001b[1;32mIn[4], line 1\u001b[0m\n\u001b[1;32m----> 1\u001b[0m divide \u001b[38;5;241m=\u001b[39m \u001b[38;5;241;43m5\u001b[39;49m\u001b[38;5;241;43m/\u001b[39;49m\u001b[38;5;241;43m0\u001b[39;49m\n\u001b[0;32m      2\u001b[0m \u001b[38;5;28mprint\u001b[39m(divide)\n",
      "\u001b[1;31mZeroDivisionError\u001b[0m: division by zero"
     ]
    }
   ],
   "source": [
    "divide = 5/0\n",
    "print(divide)\n"
   ]
  },
  {
   "cell_type": "code",
   "execution_count": 14,
   "id": "ab68e653-3eec-43fb-aa5a-a35db5f92f9f",
   "metadata": {},
   "outputs": [
    {
     "name": "stdout",
     "output_type": "stream",
     "text": [
      "not divisible: division by zero\n"
     ]
    }
   ],
   "source": [
    "try:\n",
    "    divide = 5/0\n",
    "except ZeroDivisionError as e:\n",
    "    print (\"not divisible:\",e)\n",
    "\n"
   ]
  },
  {
   "cell_type": "code",
   "execution_count": null,
   "id": "cf911475-432b-4d50-b0e3-0cd627a026b3",
   "metadata": {},
   "outputs": [],
   "source": [
    "#dictionary"
   ]
  },
  {
   "cell_type": "code",
   "execution_count": 22,
   "id": "a3077511-197c-4f9c-967b-0dab979cfa94",
   "metadata": {},
   "outputs": [
    {
     "name": "stdout",
     "output_type": "stream",
     "text": [
      "laxman niroula\n",
      "20\n",
      "address\n",
      "laxman niroula 20 address\n"
     ]
    }
   ],
   "source": [
    "name=\"laxman niroula\"\n",
    "age =20\n",
    "address=\"address\"\n",
    "print(name)\n",
    "print(age)\n",
    "print(address)\n",
    "\n",
    "print(name,age,address)"
   ]
  },
  {
   "cell_type": "code",
   "execution_count": 30,
   "id": "e556edc7-610e-459d-bc61-d466ffd09dbd",
   "metadata": {},
   "outputs": [
    {
     "name": "stdout",
     "output_type": "stream",
     "text": [
      "{'brand': 'yamaha', 'model': 'dirt', 'year': 2020}\n",
      "dirt\n"
     ]
    }
   ],
   "source": [
    "bikes={\n",
    "   \"brand\":\"yamaha\",\n",
    "    \"model\":\"dirt\",\n",
    "    \"year\":2020\n",
    " }\n",
    "print(bikes)\n"
   ]
  },
  {
   "cell_type": "code",
   "execution_count": 39,
   "id": "a80f2d56-fdfc-4b85-a831-c6ad38d5b16f",
   "metadata": {},
   "outputs": [
    {
     "name": "stdout",
     "output_type": "stream",
     "text": [
      "dirt\n"
     ]
    }
   ],
   "source": [
    "x = bikes[\"model\"]\n",
    "print(x)"
   ]
  },
  {
   "cell_type": "code",
   "execution_count": 40,
   "id": "90f68e6e-f7c5-48ba-a0f7-886f17b60446",
   "metadata": {},
   "outputs": [
    {
     "name": "stdout",
     "output_type": "stream",
     "text": [
      "dirt\n"
     ]
    }
   ],
   "source": [
    "x = bikes.get(\"model\")   #.get also give a same result as key method inside []  \n",
    "print(x)                 #.get ley purai scan garera value xoin bhney none dekhauxa error aaudoina but model ma keys halda error aaucha."
   ]
  },
  {
   "cell_type": "code",
   "execution_count": 34,
   "id": "3a613e7c-34eb-46d4-9615-f538375b4883",
   "metadata": {},
   "outputs": [
    {
     "name": "stdout",
     "output_type": "stream",
     "text": [
      "dict_keys(['brand', 'model', 'year'])\n"
     ]
    }
   ],
   "source": [
    "x = bikes.keys()    #get keys\n",
    "print(x)"
   ]
  },
  {
   "cell_type": "code",
   "execution_count": 35,
   "id": "19f1377c-ae09-4af4-ad9b-7c467669c196",
   "metadata": {},
   "outputs": [
    {
     "name": "stdout",
     "output_type": "stream",
     "text": [
      "dict_values(['yamaha', 'dirt', 2020])\n"
     ]
    }
   ],
   "source": [
    "x=bikes.values()     #get values\n",
    "print(x)"
   ]
  },
  {
   "cell_type": "code",
   "execution_count": 43,
   "id": "e951c5b7-5ac1-40ac-94f8-4047abc4a29e",
   "metadata": {},
   "outputs": [
    {
     "name": "stdout",
     "output_type": "stream",
     "text": [
      "('brand', 'yamaha')\n",
      "('model', 'dirt')\n",
      "('year', 2020)\n"
     ]
    }
   ],
   "source": [
    "for x in bikes.items():\n",
    "    print(x)"
   ]
  },
  {
   "cell_type": "code",
   "execution_count": null,
   "id": "f31d1ffa-41af-42a9-8bd4-92bdc5e160ff",
   "metadata": {},
   "outputs": [],
   "source": [
    "#using for loop print first two elements of dictionary."
   ]
  },
  {
   "cell_type": "code",
   "execution_count": 52,
   "id": "74618e17-2005-4250-bfd5-63198b1930ae",
   "metadata": {},
   "outputs": [
    {
     "name": "stdout",
     "output_type": "stream",
     "text": [
      "laxman niroula\n",
      "biratnager\n"
     ]
    }
   ],
   "source": [
    "first_dict={\"name\":\"laxman niroula\",\"address\":\"biratnager\",\"mobile\":9865164565456,\"present\":True}\n",
    "x = list(first_dict.keys())[:2]\n",
    "for i in x :\n",
    "    print(first_dict[i])\n"
   ]
  },
  {
   "cell_type": "code",
   "execution_count": null,
   "id": "3bd6e40a-3e6e-47a3-9b95-4a92b662432c",
   "metadata": {},
   "outputs": [],
   "source": [
    "#set"
   ]
  },
  {
   "cell_type": "code",
   "execution_count": 55,
   "id": "dcf1cb5a-be1d-4506-a99f-6016f575cca5",
   "metadata": {},
   "outputs": [
    {
     "name": "stdout",
     "output_type": "stream",
     "text": [
      "{'sanjeev', 'aditya', 'manoj', 'awan', 'laxman'}\n"
     ]
    }
   ],
   "source": [
    "students={\"manoj\",\"laxman\",\"aditya\",\"awan\",\"sanjeev\"}\n",
    "print(students)"
   ]
  },
  {
   "cell_type": "code",
   "execution_count": null,
   "id": "cb1a3d32-7f8e-4ae5-b1be-1dfa5e24974d",
   "metadata": {},
   "outputs": [],
   "source": []
  },
  {
   "cell_type": "code",
   "execution_count": null,
   "id": "4aa0f645-0c8b-433b-ab10-64c77c87e2ff",
   "metadata": {},
   "outputs": [],
   "source": []
  }
 ],
 "metadata": {
  "kernelspec": {
   "display_name": "Python 3 (ipykernel)",
   "language": "python",
   "name": "python3"
  },
  "language_info": {
   "codemirror_mode": {
    "name": "ipython",
    "version": 3
   },
   "file_extension": ".py",
   "mimetype": "text/x-python",
   "name": "python",
   "nbconvert_exporter": "python",
   "pygments_lexer": "ipython3",
   "version": "3.12.3"
  }
 },
 "nbformat": 4,
 "nbformat_minor": 5
}

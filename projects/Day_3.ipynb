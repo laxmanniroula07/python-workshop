{
 "cells": [
  {
   "cell_type": "code",
   "execution_count": null,
   "id": "65f6e1b4-5057-462b-904a-4b327e83a74e",
   "metadata": {},
   "outputs": [],
   "source": [
    "#list"
   ]
  },
  {
   "cell_type": "code",
   "execution_count": null,
   "id": "aa54ebbc-8f46-44a5-9ea7-bb77abe289e3",
   "metadata": {},
   "outputs": [],
   "source": [
    "#from the list of   10 students print  name of those students  whose name start with  'a' or 'A'."
   ]
  },
  {
   "cell_type": "code",
   "execution_count": 13,
   "id": "66e7b275-2ff0-4cd5-ae48-69d3d5c4bde8",
   "metadata": {},
   "outputs": [
    {
     "name": "stdout",
     "output_type": "stream",
     "text": [
      "awan\n",
      "aditya\n",
      "ayush\n",
      "Ayush\n",
      "Anish\n",
      "amrit\n"
     ]
    }
   ],
   "source": [
    "x = [\"awan\",\"manoj\",\"aditya\",\"sanjeev\",\"laxman\",\"sakar\",\"ayush\",\"Ayush\",\"Anish\",\"amrit\"]\n",
    "for i in x :\n",
    "    if (i[0]=='a' or i[0]=='A'):\n",
    "     print(i)\n"
   ]
  },
  {
   "cell_type": "code",
   "execution_count": null,
   "id": "82ebeedc-4a59-44ae-aad1-01597b8dad82",
   "metadata": {},
   "outputs": [],
   "source": [
    "#from the list of   10 students print  name of those students  whose name ends with  'a' or 'A'.\n"
   ]
  },
  {
   "cell_type": "code",
   "execution_count": 19,
   "id": "5f942e47-a899-4a82-95d8-a1d4462a6ea1",
   "metadata": {},
   "outputs": [
    {
     "name": "stdout",
     "output_type": "stream",
     "text": [
      "aditya\n",
      "Aayusha\n",
      "Anisha\n"
     ]
    }
   ],
   "source": [
    "x = [\"awan\",\"manoj\",\"aditya\",\"sanjeev\",\"laxman\",\"sakar\",\"Aayusha\",\"Ayush\",\"Anisha\",\"amrit\"]\n",
    "for i in x :\n",
    "    if (i[-1]=='a' or i[-1]=='A'):\n",
    "        print(i)"
   ]
  },
  {
   "cell_type": "code",
   "execution_count": null,
   "id": "89b5660f-d4e2-4c6f-8e6b-83e4ad9e7dfa",
   "metadata": {},
   "outputs": [],
   "source": [
    "#from a list of 10 students remove the name of those students whose name stars and ends with 'A' or 'a'."
   ]
  },
  {
   "cell_type": "code",
   "execution_count": 80,
   "id": "e68ef669-2e4d-4c96-bbb6-77d0222cd868",
   "metadata": {},
   "outputs": [
    {
     "name": "stdout",
     "output_type": "stream",
     "text": [
      "['Anushka', 'Awan', 'laxman', 'manoj', 'sakar', 'sanjeev']\n"
     ]
    }
   ],
   "source": [
    "x = ['manoj','sakar','Aditya','Ayusha','Anushka', 'laxman','sanjeev','Awan']\n",
    "x.sort()\n",
    "for i in x :\n",
    "    if (i[0]=='A'  and  i[-1]=='a'):\n",
    "        \n",
    "     x.remove(i)\n",
    "print(x)\n",
    "    "
   ]
  },
  {
   "cell_type": "code",
   "execution_count": 63,
   "id": "568d095d-ec65-4886-8382-042f950460c3",
   "metadata": {},
   "outputs": [],
   "source": [
    "#shorting"
   ]
  },
  {
   "cell_type": "code",
   "execution_count": 60,
   "id": "76abdea2-511c-4cf1-af55-b95441f315b7",
   "metadata": {},
   "outputs": [
    {
     "name": "stdout",
     "output_type": "stream",
     "text": [
      "['awan', 'chandra', 'dipesh', 'laxman', 'manoj', 'rohan', 'sakar']\n",
      "['sakar', 'rohan', 'manoj', 'laxman', 'dipesh', 'chandra', 'awan']\n"
     ]
    }
   ],
   "source": [
    "x=['awan','manoj','sakar','laxman','chandra','dipesh','rohan']\n",
    "x.sort()\n",
    "print(x)\n",
    "\n",
    "x.sort(reverse=True)\n",
    "print(x)"
   ]
  },
  {
   "cell_type": "code",
   "execution_count": null,
   "id": "dfd5cc06-3084-4a75-bdba-02531ee66f91",
   "metadata": {},
   "outputs": [],
   "source": [
    "\n",
    "\n",
    "\n",
    "#tuple\n",
    "\n",
    "\n",
    "tuple ra list same ho .list ma modify garna milxa  bhney tuple ma edit/del khi mildoina.\n"
   ]
  },
  {
   "cell_type": "code",
   "execution_count": 66,
   "id": "20581832-7266-4119-a4e2-f1f41b122dca",
   "metadata": {},
   "outputs": [
    {
     "data": {
      "text/plain": [
       "tuple"
      ]
     },
     "execution_count": 66,
     "metadata": {},
     "output_type": "execute_result"
    }
   ],
   "source": [
    "x=('ram','hari','gita','sita')\n",
    "type(x)\n"
   ]
  },
  {
   "cell_type": "code",
   "execution_count": 67,
   "id": "38ba2b49-8102-4292-9520-c6e965d49655",
   "metadata": {},
   "outputs": [
    {
     "name": "stdout",
     "output_type": "stream",
     "text": [
      "10\n"
     ]
    }
   ],
   "source": [
    "x = (\"awan\",\"manoj\",\"aditya\",\"sanjeev\",\"laxman\",\"sakar\",\"Aayusha\",\"Ayush\",\"Anisha\",\"amrit\")\n",
    "print(len(x))\n"
   ]
  },
  {
   "cell_type": "code",
   "execution_count": 68,
   "id": "38df4651-a3e4-41d1-ad1e-476d79997e74",
   "metadata": {},
   "outputs": [
    {
     "name": "stdout",
     "output_type": "stream",
     "text": [
      "<class 'int'>\n"
     ]
    }
   ],
   "source": [
    "x =(1)\n",
    "print(type(x))    # tuple huna lai more then 2 values or data hunu paryo if tuple banaunu cha bhney ( ,) used garda euta element ley ni tuple banxa.\n",
    "      "
   ]
  },
  {
   "cell_type": "code",
   "execution_count": null,
   "id": "2a4ea45a-f0db-4e60-a90d-55a3e61123bd",
   "metadata": {},
   "outputs": [],
   "source": [
    "\n",
    "\n",
    " days 4 \n",
    "#function\n",
    "\n",
    "\n"
   ]
  },
  {
   "cell_type": "code",
   "execution_count": 77,
   "id": "63ed1602-96c4-404e-ad7d-900fe7bd1154",
   "metadata": {},
   "outputs": [],
   "source": [
    "def add():\n",
    "    c= 4 \n",
    "    d= 5\n",
    "    return c+d\n",
    "output = add()"
   ]
  },
  {
   "cell_type": "raw",
   "id": "37a2cba8-4cd5-4ecb-9e77-c7b64821d15e",
   "metadata": {},
   "source": [
    "\n",
    "\n",
    "#write  a program  find the sum of two numbers using functions. \n",
    "\n"
   ]
  },
  {
   "cell_type": "code",
   "execution_count": 22,
   "id": "52ef0184-f7df-4e89-8a21-690e72ef643e",
   "metadata": {},
   "outputs": [
    {
     "name": "stdin",
     "output_type": "stream",
     "text": [
      "enter 1st number 5\n",
      "enter 2nd number 5\n"
     ]
    },
    {
     "name": "stdout",
     "output_type": "stream",
     "text": [
      "10\n"
     ]
    }
   ],
   "source": [
    "def add(a,b):\n",
    "    c = a+b\n",
    "    return c \n",
    "a = int(input(\"enter 1st number\"))\n",
    "b = int(input(\"enter 2nd number,..\"))\n",
    "print(add(a,b))"
   ]
  },
  {
   "cell_type": "code",
   "execution_count": null,
   "id": "df5c0764-9152-44f5-95bf-30c2dd50c3d8",
   "metadata": {},
   "outputs": [],
   "source": [
    "\n",
    "#ask two number from user  and ask whether to add or subtract using function\n",
    "def add(a, b):\n"
   ]
  },
  {
   "cell_type": "code",
   "execution_count": 45,
   "id": "eedec8a8-58be-4bfc-ae0f-8fca96a5edf1",
   "metadata": {},
   "outputs": [
    {
     "name": "stdin",
     "output_type": "stream",
     "text": [
      "enter 1st number 8\n",
      "enter  2nd number 4\n",
      "enter the choice 1.add 2.sub 3.mul 4.div 4\n"
     ]
    },
    {
     "name": "stdout",
     "output_type": "stream",
     "text": [
      "2.0\n"
     ]
    }
   ],
   "source": [
    "a = int(input(\"enter 1st number\"))\n",
    "b = int(input(\"enter  2nd number\"))\n",
    "operation = input(\"enter the choice 1.add 2.sub 3.mul 4.div\")\n",
    "def add(a,b):\n",
    "    return a+b\n",
    "def sub(a,b):\n",
    "    return a-b\n",
    "def mul(a,b):\n",
    "   return  a*b\n",
    "def div(a,b):\n",
    "    return a/b\n",
    "\n",
    "if operation== '1':\n",
    "    print(add(a,b))\n",
    "elif operation == '2':\n",
    "    print(sub(a,b))\n",
    "elif(operation =='3'):\n",
    "    print(mul(a,b))\n",
    "elif(operation =='4'):\n",
    "    print(div(a,b))\n",
    "else:\n",
    "    print(\"wrong operation\")\n",
    "   \n",
    "    \n",
    "    \n",
    "\n"
   ]
  },
  {
   "cell_type": "code",
   "execution_count": null,
   "id": "a887b98f-f06a-4c99-86a4-6024dfbc9a21",
   "metadata": {},
   "outputs": [],
   "source": [
    "# argunents "
   ]
  },
  {
   "cell_type": "code",
   "execution_count": null,
   "id": "e618a89e-7587-42a5-a8ee-e1c1e7ab6160",
   "metadata": {},
   "outputs": [],
   "source": [
    "write a program to add 4 numbers enter the users using arbitriy arguments."
   ]
  },
  {
   "cell_type": "code",
   "execution_count": 53,
   "id": "65974afa-5103-4471-90a9-cf77de9f111e",
   "metadata": {},
   "outputs": [
    {
     "name": "stdin",
     "output_type": "stream",
     "text": [
      "enter 1st number 2\n",
      "enter 2nd number 5\n",
      "enter 3rd number 6\n",
      "enter 4th number 4\n"
     ]
    },
    {
     "name": "stdout",
     "output_type": "stream",
     "text": [
      "17\n"
     ]
    }
   ],
   "source": [
    "def add(*args):\n",
    "    return args[0]+args[1] + args[2] +args[3]\n",
    "a = int(input(\"enter 1st number\"))\n",
    "b = int(input(\"enter 2nd number\"))\n",
    "c = int(input(\"enter 3rd number\"))\n",
    "d = int(input(\"enter 4th number\"))\n",
    "print(add(a,b,c,d))\n",
    "\n",
    "\n",
    "    "
   ]
  },
  {
   "cell_type": "code",
   "execution_count": null,
   "id": "54595572-0efd-4b8c-8d6b-8f52e85806fb",
   "metadata": {},
   "outputs": [],
   "source": [
    "\n",
    "\n",
    "\n",
    "##write a program to ask user 4 numbers using same functions\n",
    "\n"
   ]
  },
  {
   "cell_type": "code",
   "execution_count": 63,
   "id": "4c025e73-7f05-40d1-a70d-3ee83d412daa",
   "metadata": {},
   "outputs": [
    {
     "name": "stdin",
     "output_type": "stream",
     "text": [
      "enter 1st number 1\n",
      "enter 2nd number 1\n",
      "enter 3rd number 1\n",
      "enter 4th number 1\n"
     ]
    },
    {
     "ename": "RecursionError",
     "evalue": "maximum recursion depth exceeded",
     "output_type": "error",
     "traceback": [
      "\u001b[1;31m---------------------------------------------------------------------------\u001b[0m",
      "\u001b[1;31mRecursionError\u001b[0m                            Traceback (most recent call last)",
      "Cell \u001b[1;32mIn[63], line 7\u001b[0m\n\u001b[0;32m      5\u001b[0m c \u001b[38;5;241m=\u001b[39m \u001b[38;5;28mint\u001b[39m(\u001b[38;5;28minput\u001b[39m(\u001b[38;5;124m\"\u001b[39m\u001b[38;5;124menter 3rd number\u001b[39m\u001b[38;5;124m\"\u001b[39m))\n\u001b[0;32m      6\u001b[0m d \u001b[38;5;241m=\u001b[39m \u001b[38;5;28mint\u001b[39m(\u001b[38;5;28minput\u001b[39m(\u001b[38;5;124m\"\u001b[39m\u001b[38;5;124menter 4th number\u001b[39m\u001b[38;5;124m\"\u001b[39m))\n\u001b[1;32m----> 7\u001b[0m \u001b[38;5;28mprint\u001b[39m(\u001b[38;5;28;43msum\u001b[39;49m\u001b[43m(\u001b[49m\u001b[43ma\u001b[49m\u001b[43m,\u001b[49m\u001b[43mb\u001b[49m\u001b[43m,\u001b[49m\u001b[43mc\u001b[49m\u001b[43m,\u001b[49m\u001b[43md\u001b[49m\u001b[43m)\u001b[49m)\n",
      "Cell \u001b[1;32mIn[63], line 2\u001b[0m, in \u001b[0;36msum\u001b[1;34m(*args)\u001b[0m\n\u001b[0;32m      1\u001b[0m \u001b[38;5;28;01mdef\u001b[39;00m \u001b[38;5;21msum\u001b[39m(\u001b[38;5;241m*\u001b[39margs):\n\u001b[1;32m----> 2\u001b[0m     \u001b[38;5;28;01mreturn\u001b[39;00m \u001b[38;5;28;43msum\u001b[39;49m\u001b[43m \u001b[49m\u001b[43m(\u001b[49m\u001b[43margs\u001b[49m\u001b[43m)\u001b[49m\n",
      "Cell \u001b[1;32mIn[63], line 2\u001b[0m, in \u001b[0;36msum\u001b[1;34m(*args)\u001b[0m\n\u001b[0;32m      1\u001b[0m \u001b[38;5;28;01mdef\u001b[39;00m \u001b[38;5;21msum\u001b[39m(\u001b[38;5;241m*\u001b[39margs):\n\u001b[1;32m----> 2\u001b[0m     \u001b[38;5;28;01mreturn\u001b[39;00m \u001b[38;5;28;43msum\u001b[39;49m\u001b[43m \u001b[49m\u001b[43m(\u001b[49m\u001b[43margs\u001b[49m\u001b[43m)\u001b[49m\n",
      "    \u001b[1;31m[... skipping similar frames: sum at line 2 (2974 times)]\u001b[0m\n",
      "Cell \u001b[1;32mIn[63], line 2\u001b[0m, in \u001b[0;36msum\u001b[1;34m(*args)\u001b[0m\n\u001b[0;32m      1\u001b[0m \u001b[38;5;28;01mdef\u001b[39;00m \u001b[38;5;21msum\u001b[39m(\u001b[38;5;241m*\u001b[39margs):\n\u001b[1;32m----> 2\u001b[0m     \u001b[38;5;28;01mreturn\u001b[39;00m \u001b[38;5;28;43msum\u001b[39;49m\u001b[43m \u001b[49m\u001b[43m(\u001b[49m\u001b[43margs\u001b[49m\u001b[43m)\u001b[49m\n",
      "\u001b[1;31mRecursionError\u001b[0m: maximum recursion depth exceeded"
     ]
    }
   ],
   "source": [
    "def sum(*args):\n",
    "    return sum (args)\n",
    "a = int(input(\"enter 1st number\"))\n",
    "b = int(input(\"enter 2nd number\"))\n",
    "c = int(input(\"enter 3rd number\"))\n",
    "d = int(input(\"enter 4th number\"))\n",
    "print(sum(a,b,c,d))\n"
   ]
  },
  {
   "cell_type": "code",
   "execution_count": 64,
   "id": "b590c46f-f9da-4ad4-b897-80a8713ea9bd",
   "metadata": {},
   "outputs": [
    {
     "name": "stdin",
     "output_type": "stream",
     "text": [
      " 4\n",
      " 5\n",
      " 5\n",
      " 4\n"
     ]
    },
    {
     "name": "stdout",
     "output_type": "stream",
     "text": [
      "9\n",
      "14\n",
      "18\n"
     ]
    }
   ],
   "source": [
    "#  @Ber-lin\n",
    "a = int(input())\n",
    "b = int(input())\n",
    "c = int(input())\n",
    "d = int(input())\n",
    "\n",
    "def sum(*args):\n",
    "    sum = 0\n",
    "    for i in args:\n",
    "        sum = sum+i\n",
    "    return sum\n",
    "print(sum(a,b))\n",
    "print(sum(a,b,c))\n",
    "print(sum(a,b,c,d))"
   ]
  },
  {
   "cell_type": "code",
   "execution_count": null,
   "id": "ce7a91db-b485-4815-977d-041d95a7b979",
   "metadata": {},
   "outputs": [],
   "source": []
  }
 ],
 "metadata": {
  "kernelspec": {
   "display_name": "Python 3 (ipykernel)",
   "language": "python",
   "name": "python3"
  },
  "language_info": {
   "codemirror_mode": {
    "name": "ipython",
    "version": 3
   },
   "file_extension": ".py",
   "mimetype": "text/x-python",
   "name": "python",
   "nbconvert_exporter": "python",
   "pygments_lexer": "ipython3",
   "version": "3.12.3"
  }
 },
 "nbformat": 4,
 "nbformat_minor": 5
}

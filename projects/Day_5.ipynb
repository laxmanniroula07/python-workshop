{
 "cells": [
  {
   "cell_type": "code",
   "execution_count": null,
   "id": "a0cb597c-7f81-4274-85be-08e70b9e2c33",
   "metadata": {},
   "outputs": [],
   "source": [
    "#class and objects\n",
    "#method "
   ]
  },
  {
   "cell_type": "code",
   "execution_count": 69,
   "id": "7b0b4fc8-c4b4-407f-90cf-311244f49414",
   "metadata": {},
   "outputs": [
    {
     "name": "stdout",
     "output_type": "stream",
     "text": [
      "laxman 21\n",
      "hello laxman welcome to ISMT\n",
      "manoj ISMT\n"
     ]
    }
   ],
   "source": [
    "class Student:   #class\n",
    "    college = \"ISMT\"   \n",
    "\n",
    "    def __init__(self,name,age,address):\n",
    "        self.name= name\n",
    "        self.age=age\n",
    "        self.address=address\n",
    "        \n",
    "    def welcome(self):\n",
    "        print(\"hello\",self.name,\"welcome to\",self.college,)\n",
    "       \n",
    "        \n",
    "        \n",
    "\n",
    "    \n",
    "             \n",
    "    \n",
    "s1 = Student(\"laxman\",21,'tanki')    #object\n",
    "print(s1.name,s1.age,)\n",
    "s1.welcome()\n",
    "\n",
    "s2 = Student(\"manoj\",35,\"brt\")\n",
    "print(s2.name,s2.college)\n",
    "\n"
   ]
  },
  {
   "cell_type": "code",
   "execution_count": null,
   "id": "2f273a5c-5055-476f-9c2b-17407672e77a",
   "metadata": {},
   "outputs": [],
   "source": [
    "\n",
    "\n",
    "\n",
    "# create a class student that takes name and marks of three subjects as aan arguments in constructor. then create a method to print the avegare."
   ]
  },
  {
   "cell_type": "code",
   "execution_count": 91,
   "id": "186a5bc3-497b-468e-a4c5-a68f91b134ca",
   "metadata": {},
   "outputs": [
    {
     "name": "stdout",
     "output_type": "stream",
     "text": [
      "Hello laxman you have scored 85.33333333333333\n",
      "Hello aditya you have scored 69.69\n"
     ]
    }
   ],
   "source": [
    "class Student:\n",
    "\n",
    "    def __init__(self,name,sub1,sub2,sub3):\n",
    "        self.name= name\n",
    "        self.mark1=sub1\n",
    "        self.mark2=sub2\n",
    "        self.mark3=sub3\n",
    "\n",
    "    def average(self):\n",
    "        self.average=((self.mark1+self.mark2+self.mark3)/3)\n",
    "        print(\"Hello\",self.name,\"you have scored\",self.average)\n",
    "    \n",
    "        \n",
    "\n",
    "s1= Student (\"laxman\",86,95,75)\n",
    "s1.average()\n",
    "s2=Student(\"aditya\",69.69,69.69,69.69)\n",
    "s2.average()\n",
    "    "
   ]
  },
  {
   "cell_type": "code",
   "execution_count": null,
   "id": "cf957a66-ac45-4b9f-8423-d917298e7298",
   "metadata": {},
   "outputs": [],
   "source": []
  },
  {
   "cell_type": "code",
   "execution_count": null,
   "id": "a1fb2c41-8dd8-4e71-a09a-dfce90545140",
   "metadata": {},
   "outputs": [],
   "source": []
  },
  {
   "cell_type": "code",
   "execution_count": null,
   "id": "a9213bf1-0c33-4149-811e-4ca6c9610f65",
   "metadata": {},
   "outputs": [],
   "source": []
  },
  {
   "cell_type": "code",
   "execution_count": 70,
   "id": "aaa181c7-dcd1-4a4e-82a5-f8093701df5f",
   "metadata": {},
   "outputs": [],
   "source": [
    "class Student:\n",
    "    college=\"ISMT\"\n",
    "\n",
    "    def __init__(self):\n",
    "        self.name= name\n",
    "        self.mark=mark1\n",
    "        self.mark=mark2\n",
    "        self.mark=mark3\n",
    "\n",
    "    def average(self):\n",
    "        self.average=average\n",
    "        \n",
    "        print(self)\n",
    "     "
   ]
  },
  {
   "cell_type": "code",
   "execution_count": 7,
   "id": "0f6951aa-927c-4763-b5e0-179448c975ed",
   "metadata": {},
   "outputs": [
    {
     "name": "stdout",
     "output_type": "stream",
     "text": [
      "Hello manoj\n",
      "Welcome to ISMT\n"
     ]
    }
   ],
   "source": [
    "class Student:\n",
    "    collge=\"ISMT\"\n",
    "    name =\"radheyshyam\"\n",
    "\n",
    "    @staticmethod\n",
    "    def welcome():\n",
    "        print(\"Welcome to ISMT\")\n",
    "\n",
    "    def __init__(self,name):\n",
    "        self.name= name\n",
    "        \n",
    "\n",
    "\n",
    "    def display(self):\n",
    "        print(\"Hello\",self.name)\n",
    "\n",
    "s1=Student(\"manoj\")\n",
    "s1.display()\n",
    "s1.welcome()\n",
    "\n"
   ]
  },
  {
   "cell_type": "code",
   "execution_count": null,
   "id": "7f978464-46fa-4861-9a17-7110378f06df",
   "metadata": {},
   "outputs": [],
   "source": [
    "# create a class account with 2 attributes balance and account number create method for credit ,debit and printing the balance."
   ]
  },
  {
   "cell_type": "code",
   "execution_count": 51,
   "id": "69aebbbc-7053-43ce-923b-7209fd5899e1",
   "metadata": {},
   "outputs": [
    {
     "name": "stdout",
     "output_type": "stream",
     "text": [
      "You have debited RS: 8000\n",
      "Your New Balance is RS: 23456\n",
      "Your Account Has Been Credit RS: 5000\n",
      "Your New Balance is RS: 18456\n"
     ]
    }
   ],
   "source": [
    "class Account:\n",
    "    \n",
    "\n",
    "    \n",
    "    def __init__(self,acc,bal):\n",
    "        self.acc= acc\n",
    "        self.bal= bal\n",
    "\n",
    "    def credit(self,amount):\n",
    "        self.bal = self.bal-amount\n",
    "        print(f\"Your Account Has Been Credit RS: {amount}\")\n",
    "        self.print_bal()\n",
    "        \n",
    "    def debit(self,amount):\n",
    "        self.bal = self.bal+amount\n",
    "        print(f\"You have debited RS: {amount}\")\n",
    "        self.print_bal()\n",
    "\n",
    "\n",
    "    def print_bal(self):\n",
    "        print(f\"Your New Balance is RS: {self.bal}\")\n",
    "\n",
    "a1= Account(11254,15456)\n",
    "a1.debit(8000)\n",
    "a1.credit(5000)\n",
    "\n",
    "\n"
   ]
  },
  {
   "cell_type": "code",
   "execution_count": null,
   "id": "3862d00d-14e7-4968-b999-e4ef1723c6dc",
   "metadata": {},
   "outputs": [],
   "source": []
  },
  {
   "cell_type": "code",
   "execution_count": null,
   "id": "863ceee1-3e2f-4b3e-8b17-b9048cac29f1",
   "metadata": {},
   "outputs": [],
   "source": []
  },
  {
   "cell_type": "code",
   "execution_count": null,
   "id": "a627a268-237d-48aa-a08c-c120ddfacf9f",
   "metadata": {},
   "outputs": [],
   "source": []
  },
  {
   "cell_type": "code",
   "execution_count": null,
   "id": "b75e66f5-257f-4cf3-ad31-5767deae00bc",
   "metadata": {},
   "outputs": [],
   "source": []
  }
 ],
 "metadata": {
  "kernelspec": {
   "display_name": "Python 3 (ipykernel)",
   "language": "python",
   "name": "python3"
  },
  "language_info": {
   "codemirror_mode": {
    "name": "ipython",
    "version": 3
   },
   "file_extension": ".py",
   "mimetype": "text/x-python",
   "name": "python",
   "nbconvert_exporter": "python",
   "pygments_lexer": "ipython3",
   "version": "3.12.3"
  }
 },
 "nbformat": 4,
 "nbformat_minor": 5
}

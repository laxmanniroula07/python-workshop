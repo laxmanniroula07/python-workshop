{
 "cells": [
  {
   "cell_type": "code",
   "execution_count": 2,
   "id": "3ccfe9f2-dee4-409a-a3b4-3f548d07659a",
   "metadata": {},
   "outputs": [
    {
     "name": "stdout",
     "output_type": "stream",
     "text": [
      "1.2777777777777777\n"
     ]
    }
   ],
   "source": [
    "n=4600\n",
    "hour=n/3600\n",
    "print(hour)\n"
   ]
  },
  {
   "cell_type": "code",
   "execution_count": 4,
   "id": "16b2b271-544a-4cfa-b1b2-9a36c4edeb19",
   "metadata": {},
   "outputs": [
    {
     "name": "stdout",
     "output_type": "stream",
     "text": [
      "1\n"
     ]
    }
   ],
   "source": [
    "hour=n//3600\n",
    "print(hour)"
   ]
  },
  {
   "cell_type": "code",
   "execution_count": 6,
   "id": "b1338dd1-7532-4f11-9b64-a41f4acb0e60",
   "metadata": {},
   "outputs": [
    {
     "name": "stdout",
     "output_type": "stream",
     "text": [
      "1000\n"
     ]
    }
   ],
   "source": [
    "rem=n%3600\n",
    "print(rem)"
   ]
  },
  {
   "cell_type": "code",
   "execution_count": 7,
   "id": "d58bceff-9873-4bd0-bb95-4a503b4caf29",
   "metadata": {},
   "outputs": [
    {
     "name": "stdout",
     "output_type": "stream",
     "text": [
      "16\n"
     ]
    }
   ],
   "source": [
    "minute=rem//60\n",
    "print(minute)"
   ]
  },
  {
   "cell_type": "code",
   "execution_count": 8,
   "id": "62a65eb7-328b-4645-af41-7feca692f584",
   "metadata": {},
   "outputs": [
    {
     "name": "stdout",
     "output_type": "stream",
     "text": [
      "40\n"
     ]
    }
   ],
   "source": [
    "second=rem%60\n",
    "print(second)"
   ]
  },
  {
   "cell_type": "code",
   "execution_count": 9,
   "id": "193b0afe-c296-414a-93cc-5eb3d3f4cd06",
   "metadata": {},
   "outputs": [
    {
     "name": "stdout",
     "output_type": "stream",
     "text": [
      "1 : 16 : 40\n"
     ]
    }
   ],
   "source": [
    "print(hour,\":\",minute,\":\",second)"
   ]
  },
  {
   "cell_type": "code",
   "execution_count": 10,
   "id": "437af382-8cdf-4fdb-929b-f7064def9465",
   "metadata": {},
   "outputs": [
    {
     "name": "stdout",
     "output_type": "stream",
     "text": [
      "1 : 16 : 40\n"
     ]
    }
   ],
   "source": [
    "a = 4600 \n",
    "hour = n//3600\n",
    "rem=n%3600\n",
    "minute=rem//60\n",
    "second= rem%60\n",
    "print(hour, \":\", minute,\":\",second)"
   ]
  },
  {
   "cell_type": "code",
   "execution_count": 24,
   "id": "fac09085-dcea-458c-93cd-930d8a000dbe",
   "metadata": {},
   "outputs": [
    {
     "name": "stdout",
     "output_type": "stream",
     "text": [
      "1 26 1\n"
     ]
    }
   ],
   "source": [
    "a=678\n",
    "year= a//365\n",
    "rem=a%365\n",
    "months= rem//12\n",
    "week=rem%4\n",
    "print(year,months,week)"
   ]
  },
  {
   "cell_type": "code",
   "execution_count": 21,
   "id": "6f1e9410-e4e9-4bb9-9f06-ab75d23b53a0",
   "metadata": {},
   "outputs": [
    {
     "name": "stdout",
     "output_type": "stream",
     "text": [
      "1\n"
     ]
    }
   ],
   "source": [
    "\n"
   ]
  },
  {
   "cell_type": "code",
   "execution_count": null,
   "id": "02041575-7246-42bc-a0be-b50b8c062365",
   "metadata": {},
   "outputs": [],
   "source": []
  },
  {
   "cell_type": "code",
   "execution_count": null,
   "id": "6121b50b-d1d4-4254-ba11-ad560533839f",
   "metadata": {},
   "outputs": [],
   "source": []
  }
 ],
 "metadata": {
  "kernelspec": {
   "display_name": "Python 3 (ipykernel)",
   "language": "python",
   "name": "python3"
  },
  "language_info": {
   "codemirror_mode": {
    "name": "ipython",
    "version": 3
   },
   "file_extension": ".py",
   "mimetype": "text/x-python",
   "name": "python",
   "nbconvert_exporter": "python",
   "pygments_lexer": "ipython3",
   "version": "3.12.3"
  }
 },
 "nbformat": 4,
 "nbformat_minor": 5
}

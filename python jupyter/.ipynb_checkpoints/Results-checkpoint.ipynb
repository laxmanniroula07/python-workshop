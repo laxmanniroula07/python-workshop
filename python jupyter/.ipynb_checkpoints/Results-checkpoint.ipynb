{
 "cells": [
  {
   "cell_type": "code",
   "execution_count": null,
   "id": "8fb6e7c4-3324-40dd-a0f9-7cfc0e1cc9ae",
   "metadata": {},
   "outputs": [],
   "source": [
    " # you are creating a result management system or school where user enters marks of three subject and check weather student has secure distinction first division or second division\n"
   ]
  },
  {
   "cell_type": "code",
   "execution_count": 45,
   "id": "d0476f21-878a-4931-b780-076d0fcb7dcd",
   "metadata": {},
   "outputs": [
    {
     "name": "stdin",
     "output_type": "stream",
     "text": [
      "Enter the obtain marks 56\n",
      "Enter the obtain marks 85\n",
      "Enter the obtain marks 98\n"
     ]
    },
    {
     "name": "stdout",
     "output_type": "stream",
     "text": [
      "79.66666666666666\n",
      "First Division\n"
     ]
    }
   ],
   "source": [
    "phy= float(input(\"Enter the obtain marks\"))\n",
    "\n",
    "che= float(input(\"Enter the obtain marks\"))\n",
    "\n",
    "math= float(input(\"Enter the obtain marks\"))\n",
    "\n",
    "total_marks = (phy + che+ math)\n",
    "percent = (total_marks /300)*100\n",
    "print(percent)\n",
    "\n",
    "if (percent>=80):\n",
    "        print(\"Distinction\")\n",
    "elif percent>= 60:\n",
    "    print(\"First Division\")\n",
    "elif percent >= 50:\n",
    "        print(\"Second Division\")\n",
    "else:\n",
    "    print( \"Fail\")\n",
    "    "
   ]
  },
  {
   "cell_type": "code",
   "execution_count": null,
   "id": "6afe780e-00f7-4811-ac2f-f0344cf7658d",
   "metadata": {},
   "outputs": [],
   "source": [
    "#you are creating a result management system or school where user enters marks of three subject and check weather student has secure distinction first division or second division\n"
   ]
  },
  {
   "cell_type": "code",
   "execution_count": 84,
   "id": "452584b1-0206-42b5-904b-5a9b0c93a9e2",
   "metadata": {
    "scrolled": true
   },
   "outputs": [
    {
     "name": "stdin",
     "output_type": "stream",
     "text": [
      "Enter the obtain marks 45\n",
      "Enter the obtain marks 56\n",
      "Enter the obtain marks 20\n"
     ]
    },
    {
     "name": "stdout",
     "output_type": "stream",
     "text": [
      "you are fail\n"
     ]
    }
   ],
   "source": [
    "\n",
    "phy= float(input(\"Enter the obtain marks\"))\n",
    "\n",
    "che= float(input(\"Enter the obtain marks\"))\n",
    "\n",
    "math= float(input(\"Enter the obtain marks\"))\n",
    "\n",
    "total_marks = (phy + che+ math)\n",
    "\n",
    "if(phy<40 or che < 40 or math < 40):\n",
    "     print(\"you are fail\")\n",
    "\n",
    "else:\n",
    "    percent = (total_marks /300)*100\n",
    "    if(percent>=80):\n",
    "      print(\"Distinction\")\n",
    "    elif (percent>= 60):\n",
    "      print(\"First Division\")\n",
    "    elif (percent >= 50):\n",
    "     print(\"Second Division\")\n"
   ]
  },
  {
   "cell_type": "code",
   "execution_count": null,
   "id": "7f886b26-0157-4fe4-905e-4c875b8d3a9c",
   "metadata": {},
   "outputs": [],
   "source": [
    " # write a python code to ask a number from the user and print the number if the number is either greater then 15 for divisible by 3."
   ]
  },
  {
   "cell_type": "code",
   "execution_count": 44,
   "id": "e120945d-90b0-480b-859a-b77e4ad803ab",
   "metadata": {},
   "outputs": [
    {
     "name": "stdin",
     "output_type": "stream",
     "text": [
      "Enter the number.. 7\n"
     ]
    },
    {
     "name": "stdout",
     "output_type": "stream",
     "text": [
      "7 not\n"
     ]
    }
   ],
   "source": [
    "\n",
    "num=int(input(\"Enter the number..\"))\n",
    "if (num > 15 or num %3==0):\n",
    "    print(num,\"number correct\")\n",
    "    \n",
    "else:\n",
    "     print(num,\"not\")\n",
    "        \n",
    "\n",
    "\n"
   ]
  },
  {
   "cell_type": "code",
   "execution_count": null,
   "id": "f1d0ac7e-06c6-4677-8500-1cbd1e1f8e41",
   "metadata": {},
   "outputs": [],
   "source": [
    "# write a python code to check the weather number is positive ,negative or zero , if the number is positive display weather the number is odd or even.\n",
    "\n"
   ]
  },
  {
   "cell_type": "code",
   "execution_count": 1,
   "id": "7b7c1ccf-b57f-403f-9cbf-d48106f82c13",
   "metadata": {},
   "outputs": [
    {
     "name": "stdin",
     "output_type": "stream",
     "text": [
      "Enter the number:  -8\n"
     ]
    },
    {
     "name": "stdout",
     "output_type": "stream",
     "text": [
      "-8 is a negative number.\n"
     ]
    }
   ],
   "source": [
    "num = int(input(\"Enter the number: \"))\n",
    "\n",
    "if num > 0:\n",
    "    print(num, \"is a positive number.\")\n",
    "    if num % 2 == 0:\n",
    "        print(num, \"is an even number.\")\n",
    "    else:\n",
    "        print(num, \"is an odd number.\")\n",
    "elif num < 0:\n",
    "    print(num, \"is a negative number.\")\n",
    "else:\n",
    "    print(num, \"is zero.\")\n",
    "\n",
    "\n",
    "    "
   ]
  },
  {
   "cell_type": "code",
   "execution_count": null,
   "id": "0d305f5d-f3e8-436e-bf41-55e4febab8dd",
   "metadata": {},
   "outputs": [],
   "source": []
  }
 ],
 "metadata": {
  "kernelspec": {
   "display_name": "Python 3 (ipykernel)",
   "language": "python",
   "name": "python3"
  },
  "language_info": {
   "codemirror_mode": {
    "name": "ipython",
    "version": 3
   },
   "file_extension": ".py",
   "mimetype": "text/x-python",
   "name": "python",
   "nbconvert_exporter": "python",
   "pygments_lexer": "ipython3",
   "version": "3.12.3"
  }
 },
 "nbformat": 4,
 "nbformat_minor": 5
}

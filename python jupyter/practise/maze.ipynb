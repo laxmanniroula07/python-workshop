{
 "cells": [
  {
   "cell_type": "code",
   "execution_count": null,
   "id": "56b899ba-ac3a-483b-bcec-0f2ef685bfc7",
   "metadata": {},
   "outputs": [],
   "source": [
    "from pyamaze import maze\n",
    "m=maze(6,6)\n",
    "m.CreateMaze()\n",
    "print(m.grid)\n",
    "print(m.maze_map)\n",
    "m.run()\n",
    "\n",
    "def h(cell1,cell2):\n",
    "    x1,y1=cell1\n",
    "    x2,y2=cell2\n",
    "\n",
    "    return (abs(x1-x2)+abs(y1-y2))\n",
    "a=h((1,1),(2,2))\n",
    "print(a)\n",
    "m.run()"
   ]
  },
  {
   "cell_type": "code",
   "execution_count": null,
   "id": "d4453569-a21c-425e-b95e-f73840651411",
   "metadata": {},
   "outputs": [],
   "source": [
    "from pymaze import maze\n",
    "m= CreateMaze()\n",
    "m= maze(9,5)\n",
    "print(m.grid)\n",
    "print(M.maze_map)\n",
    "\n",
    "m.run()\n",
    "def a"
   ]
  },
  {
   "cell_type": "code",
   "execution_count": null,
   "id": "51433e3c-a8d9-48e5-8f20-72eec3d1858b",
   "metadata": {},
   "outputs": [],
   "source": []
  },
  {
   "cell_type": "code",
   "execution_count": null,
   "id": "95ff8da1-50be-494c-ba59-93ff16c8c4c8",
   "metadata": {},
   "outputs": [],
   "source": []
  }
 ],
 "metadata": {
  "kernelspec": {
   "display_name": "Python 3 (ipykernel)",
   "language": "python",
   "name": "python3"
  },
  "language_info": {
   "codemirror_mode": {
    "name": "ipython",
    "version": 3
   },
   "file_extension": ".py",
   "mimetype": "text/x-python",
   "name": "python",
   "nbconvert_exporter": "python",
   "pygments_lexer": "ipython3",
   "version": "3.12.3"
  }
 },
 "nbformat": 4,
 "nbformat_minor": 5
}

{
 "cells": [
  {
   "cell_type": "code",
   "execution_count": null,
   "id": "4331c3e2-880d-4055-a225-a87d8ae9e10d",
   "metadata": {},
   "outputs": [],
   "source": []
  }
 ],
 "metadata": {
  "kernelspec": {
   "display_name": "",
   "name": ""
  },
  "language_info": {
   "name": ""
  }
 },
 "nbformat": 4,
 "nbformat_minor": 5
}

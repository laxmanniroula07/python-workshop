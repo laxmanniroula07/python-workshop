{
 "cells": [
  {
   "cell_type": "code",
   "execution_count": 1,
   "id": "73f9888f-ea69-4519-9022-a49420b9c15f",
   "metadata": {
    "scrolled": true
   },
   "outputs": [
    {
     "name": "stdin",
     "output_type": "stream",
     "text": [
      "Enter the  amount in USD: 122\n"
     ]
    },
    {
     "name": "stdout",
     "output_type": "stream",
     "text": [
      "122.0\n",
      "4026.0\n"
     ]
    }
   ],
   "source": [
    "USD= float(input(\"Enter the  amount in USD:\"))\n",
    "print(USD)\n",
    "NPR = USD * 33\n",
    "print(NPR)\n",
    "\n"
   ]
  },
  {
   "cell_type": "code",
   "execution_count": 2,
   "id": "c5df3c3d-82d7-40d4-bf4f-9dae0629bc7c",
   "metadata": {},
   "outputs": [
    {
     "name": "stdin",
     "output_type": "stream",
     "text": [
      "Enter the  amount in USD: 145\n"
     ]
    },
    {
     "name": "stdout",
     "output_type": "stream",
     "text": [
      "145.0\n",
      "4785.0\n"
     ]
    }
   ],
   "source": [
    "USD= float(input(\"Enter the  amount in USD:\"))\n",
    "print(USD)\n",
    "NPR = USD * 33\n",
    "print(NPR)\n",
    "\n"
   ]
  },
  {
   "cell_type": "code",
   "execution_count": null,
   "id": "718315ec-e631-4ea2-b4bf-9e0a94b2c4fb",
   "metadata": {},
   "outputs": [],
   "source": [
    "write a python code to check weather given number is odd or even .\n"
   ]
  },
  {
   "cell_type": "code",
   "execution_count": 7,
   "id": "bd6c8ee7-5806-42cf-a13f-9f82556b75b6",
   "metadata": {},
   "outputs": [
    {
     "name": "stdin",
     "output_type": "stream",
     "text": [
      "Enter the number:... 9\n"
     ]
    },
    {
     "name": "stdout",
     "output_type": "stream",
     "text": [
      "odd\n"
     ]
    }
   ],
   "source": [
    "num = int(input(\"Enter the number:...\"))\n",
    "if(num%2==0):\n",
    "    {\n",
    "  print(\"even\")\n",
    "}\n",
    "else: \n",
    " print(\"odd\")\n",
    "    \n",
    "\n"
   ]
  },
  {
   "cell_type": "code",
   "execution_count": null,
   "id": "99e8769d-ccd0-4887-850a-daa1d613b778",
   "metadata": {},
   "outputs": [],
   "source": []
  }
 ],
 "metadata": {
  "kernelspec": {
   "display_name": "Python 3 (ipykernel)",
   "language": "python",
   "name": "python3"
  },
  "language_info": {
   "codemirror_mode": {
    "name": "ipython",
    "version": 3
   },
   "file_extension": ".py",
   "mimetype": "text/x-python",
   "name": "python",
   "nbconvert_exporter": "python",
   "pygments_lexer": "ipython3",
   "version": "3.12.3"
  }
 },
 "nbformat": 4,
 "nbformat_minor": 5
}

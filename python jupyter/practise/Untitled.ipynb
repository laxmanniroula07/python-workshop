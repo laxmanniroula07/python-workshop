{
 "cells": [
  {
   "cell_type": "code",
   "execution_count": null,
   "id": "a1309492-e118-487d-b05b-ada5850d9742",
   "metadata": {},
   "outputs": [],
   "source": []
  }
 ],
 "metadata": {
  "kernelspec": {
   "display_name": "",
   "name": ""
  },
  "language_info": {
   "name": ""
  }
 },
 "nbformat": 4,
 "nbformat_minor": 5
}

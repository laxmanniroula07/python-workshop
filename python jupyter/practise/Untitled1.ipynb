{
 "cells": [
  {
   "cell_type": "code",
   "execution_count": null,
   "id": "02f50a19-1924-49a6-a8d8-f3243e13113a",
   "metadata": {},
   "outputs": [],
   "source": []
  }
 ],
 "metadata": {
  "kernelspec": {
   "display_name": "",
   "name": ""
  },
  "language_info": {
   "name": ""
  }
 },
 "nbformat": 4,
 "nbformat_minor": 5
}

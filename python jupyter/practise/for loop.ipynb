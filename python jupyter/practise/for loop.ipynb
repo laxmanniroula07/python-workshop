{
 "cells": [
  {
   "cell_type": "code",
   "execution_count": 1,
   "id": "b7888697-52c2-4fac-a516-0ed1390dca7c",
   "metadata": {},
   "outputs": [
    {
     "name": "stdout",
     "output_type": "stream",
     "text": [
      "0\n",
      "1\n",
      "2\n",
      "3\n"
     ]
    }
   ],
   "source": [
    "for i in range(0,4):\n",
    "    print(i)"
   ]
  },
  {
   "cell_type": "code",
   "execution_count": null,
   "id": "34b9e152-3f11-4030-b77e-56f66c3ee2ac",
   "metadata": {},
   "outputs": [],
   "source": [
    "#write a python code to disply the series 1 3 5 7 9."
   ]
  },
  {
   "cell_type": "code",
   "execution_count": 8,
   "id": "6efd91dc-7423-4ebf-9a39-d9bc07f08968",
   "metadata": {},
   "outputs": [
    {
     "name": "stdout",
     "output_type": "stream",
     "text": [
      "1\n",
      "3\n",
      "5\n",
      "7\n",
      "9\n"
     ]
    }
   ],
   "source": [
    "for i in range(1,10,2):\n",
    "    print(i)"
   ]
  },
  {
   "cell_type": "code",
   "execution_count": null,
   "id": "7b8e9bc1-fd4a-4f94-a0bc-3a191ad4c5b5",
   "metadata": {},
   "outputs": [],
   "source": [
    "# write a python code to print all the numbers between 0 and 100 that are divisible by 3 and 7."
   ]
  },
  {
   "cell_type": "code",
   "execution_count": 7,
   "id": "e773a4f6-1e84-47d9-9884-358e0f84a525",
   "metadata": {},
   "outputs": [
    {
     "name": "stdout",
     "output_type": "stream",
     "text": [
      "21\n",
      "42\n",
      "63\n",
      "84\n"
     ]
    }
   ],
   "source": [
    "for i in range (1,101):\n",
    " if (i%3 ==0 and  i%7==0):\n",
    "    print(i)\n",
    "    "
   ]
  },
  {
   "cell_type": "code",
   "execution_count": null,
   "id": "3e7cec79-b3df-4a82-8d47-b9782a83eee0",
   "metadata": {},
   "outputs": [],
   "source": [
    " #write a  python code to identify odd or even number 1 and 100.\n"
   ]
  },
  {
   "cell_type": "code",
   "execution_count": 28,
   "id": "6952f88b-8645-4bd8-9dc0-90398f05d0d1",
   "metadata": {},
   "outputs": [
    {
     "name": "stdout",
     "output_type": "stream",
     "text": [
      "1 is a odd number.\n",
      "2 is a even number.\n",
      "3 is a odd number.\n",
      "4 is a even number.\n",
      "5 is a odd number.\n",
      "6 is a even number.\n",
      "7 is a odd number.\n",
      "8 is a even number.\n",
      "9 is a odd number.\n",
      "10 is a even number.\n",
      "11 is a odd number.\n",
      "12 is a even number.\n",
      "13 is a odd number.\n",
      "14 is a even number.\n",
      "15 is a odd number.\n",
      "16 is a even number.\n",
      "17 is a odd number.\n",
      "18 is a even number.\n",
      "19 is a odd number.\n",
      "20 is a even number.\n",
      "21 is a odd number.\n",
      "22 is a even number.\n",
      "23 is a odd number.\n",
      "24 is a even number.\n",
      "25 is a odd number.\n",
      "26 is a even number.\n",
      "27 is a odd number.\n",
      "28 is a even number.\n",
      "29 is a odd number.\n",
      "30 is a even number.\n",
      "31 is a odd number.\n",
      "32 is a even number.\n",
      "33 is a odd number.\n",
      "34 is a even number.\n",
      "35 is a odd number.\n",
      "36 is a even number.\n",
      "37 is a odd number.\n",
      "38 is a even number.\n",
      "39 is a odd number.\n",
      "40 is a even number.\n",
      "41 is a odd number.\n",
      "42 is a even number.\n",
      "43 is a odd number.\n",
      "44 is a even number.\n",
      "45 is a odd number.\n",
      "46 is a even number.\n",
      "47 is a odd number.\n",
      "48 is a even number.\n",
      "49 is a odd number.\n",
      "50 is a even number.\n",
      "51 is a odd number.\n",
      "52 is a even number.\n",
      "53 is a odd number.\n",
      "54 is a even number.\n",
      "55 is a odd number.\n",
      "56 is a even number.\n",
      "57 is a odd number.\n",
      "58 is a even number.\n",
      "59 is a odd number.\n",
      "60 is a even number.\n",
      "61 is a odd number.\n",
      "62 is a even number.\n",
      "63 is a odd number.\n",
      "64 is a even number.\n",
      "65 is a odd number.\n",
      "66 is a even number.\n",
      "67 is a odd number.\n",
      "68 is a even number.\n",
      "69 is a odd number.\n",
      "70 is a even number.\n",
      "71 is a odd number.\n",
      "72 is a even number.\n",
      "73 is a odd number.\n",
      "74 is a even number.\n",
      "75 is a odd number.\n",
      "76 is a even number.\n",
      "77 is a odd number.\n",
      "78 is a even number.\n",
      "79 is a odd number.\n",
      "80 is a even number.\n",
      "81 is a odd number.\n",
      "82 is a even number.\n",
      "83 is a odd number.\n",
      "84 is a even number.\n",
      "85 is a odd number.\n",
      "86 is a even number.\n",
      "87 is a odd number.\n",
      "88 is a even number.\n",
      "89 is a odd number.\n",
      "90 is a even number.\n",
      "91 is a odd number.\n",
      "92 is a even number.\n",
      "93 is a odd number.\n",
      "94 is a even number.\n",
      "95 is a odd number.\n",
      "96 is a even number.\n",
      "97 is a odd number.\n",
      "98 is a even number.\n",
      "99 is a odd number.\n"
     ]
    }
   ],
   "source": [
    "for i in range (1,100):\n",
    "    if (i%2==0):\n",
    "      print(i,\"is a even number.\")\n",
    "    else:\n",
    "      print(i,\"is a odd number.\")"
   ]
  },
  {
   "cell_type": "code",
   "execution_count": null,
   "id": "42f47eae-ae67-40c1-97e1-d8c6044db697",
   "metadata": {},
   "outputs": [],
   "source": [
    "## use append on the array ."
   ]
  },
  {
   "cell_type": "code",
   "execution_count": 31,
   "id": "3c1f992f-7ea5-48be-9763-fa7a5f69c9a7",
   "metadata": {
    "scrolled": true
   },
   "outputs": [
    {
     "name": "stdin",
     "output_type": "stream",
     "text": [
      "enter array element 5\n",
      "enter array element 10\n",
      "enter array element 12\n",
      "enter array element 8\n"
     ]
    },
    {
     "name": "stdout",
     "output_type": "stream",
     "text": [
      "[5, 10, 12, 8] array element\n"
     ]
    }
   ],
   "source": [
    "a = []\n",
    "n = 4\n",
    "for i in range(0,n):\n",
    "    x =int(input(\"enter array element\"))\n",
    "    a.append(x)\n",
    "\n",
    "print(a,\"array element\")"
   ]
  },
  {
   "cell_type": "markdown",
   "id": "399fd198-639e-4290-a413-70c6a0f8aaa6",
   "metadata": {},
   "source": []
  },
  {
   "cell_type": "code",
   "execution_count": null,
   "id": "21b1157f-2a7e-4bf2-b933-88342873b501",
   "metadata": {},
   "outputs": [],
   "source": [
    "# write a python code to input weights of n number of students and display and count how many of students are weings between  60 and 75."
   ]
  }
 ],
 "metadata": {
  "kernelspec": {
   "display_name": "Python 3 (ipykernel)",
   "language": "python",
   "name": "python3"
  },
  "language_info": {
   "codemirror_mode": {
    "name": "ipython",
    "version": 3
   },
   "file_extension": ".py",
   "mimetype": "text/x-python",
   "name": "python",
   "nbconvert_exporter": "python",
   "pygments_lexer": "ipython3",
   "version": "3.12.3"
  }
 },
 "nbformat": 4,
 "nbformat_minor": 5
}

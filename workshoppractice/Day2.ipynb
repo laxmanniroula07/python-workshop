{
 "cells": [
  {
   "cell_type": "code",
   "execution_count": null,
   "id": "706e1758-6545-4266-83a2-88282a7998cb",
   "metadata": {},
   "outputs": [],
   "source": [
    "# list "
   ]
  },
  {
   "cell_type": "code",
   "execution_count": 25,
   "id": "7c49ac4b-e09e-4017-b7ac-15a40ff8e2db",
   "metadata": {},
   "outputs": [
    {
     "name": "stdout",
     "output_type": "stream",
     "text": [
      "hari\n",
      "7\n",
      "['krishna', 'gopal', 5, 6]\n",
      "['hari', 'krishna', 'gopal', 5, 6]\n",
      "['krishna', 'gopal', 5, 6, 7, 8.5, 2.0]\n",
      "['hari', 'krishna', 'gopal', 5, 6, 7, 8.5, 2.0]\n",
      "8\n"
     ]
    }
   ],
   "source": [
    "x = [\"hari\" , \"krishna\", \"gopal\", 5,6,7,8.5,2.0]\n",
    "type(x)   \n",
    "print(x[0])\n",
    "print(x[5])\n",
    "print(x[1:5])  #slising\n",
    "print(x[:5])\n",
    "print(x[1:])\n",
    "print(x[:])\n",
    "print(len(x))  #length"
   ]
  },
  {
   "cell_type": "code",
   "execution_count": null,
   "id": "c64d6a96-149f-4e60-8eea-b4341c3f7f65",
   "metadata": {},
   "outputs": [],
   "source": [
    "# create a list containig name of 10 students now print the name of last 3 students. "
   ]
  },
  {
   "cell_type": "code",
   "execution_count": 24,
   "id": "30ad9168-fb90-426e-8793-674f2a68db4c",
   "metadata": {
    "scrolled": true
   },
   "outputs": [
    {
     "name": "stdout",
     "output_type": "stream",
     "text": [
      "['awan', 'manoj', 'sanjeev']\n",
      "['ayush', 'sakar', 'indra', 'awan']\n"
     ]
    }
   ],
   "source": [
    "list=[\"aditya\",\"abhiyan\",\"laxman\",\"sweekar\",\"ayush\",\"sakar\",\"indra\",\"awan\",\"manoj\",\"sanjeev\"]\n",
    "print(list[-3:])       #negative indexing ...\n",
    "print(list[-6:-2])"
   ]
  },
  {
   "cell_type": "code",
   "execution_count": null,
   "id": "87a47d2e-0a37-4107-b2ef-a712330c4f2f",
   "metadata": {},
   "outputs": [],
   "source": [
    "#add or change item in list \n",
    "#create a list that contains name of  10 students . you found out that the name of these second last student e=was enter incorrect it is your job to correct it ."
   ]
  },
  {
   "cell_type": "code",
   "execution_count": 82,
   "id": "f66a3a1c-b3d9-4cc8-8a21-944b4a591d62",
   "metadata": {},
   "outputs": [
    {
     "name": "stdout",
     "output_type": "stream",
     "text": [
      "['aditya', 'abhiyan', 'laxman', 'sweekar', 'ayush', 'sakar', 'indra', 'awan', 'mahesh', 'sanjeev']\n",
      "<class 'list'>\n",
      "['aditya', 'abhiyan', 'laxman', 'sweekar', 'ayush', 'sakar', 'indra', 'awan', 'mahesh', 'sanjeev', 'ayushnepal']\n"
     ]
    }
   ],
   "source": [
    "A=[\"aditya\",\"abhiyan\",\"laxman\",\"sweekar\",\"ayush\",\"sakar\",\"indra\",\"awan\",\"manoj\",\"sanjeev\"]\n",
    "A[-2]= \"mahesh\"\n",
    "print(A)\n",
    "\n",
    "print(type(A))\n",
    "A.append(\"ayushnepal\")\n",
    "print(A)"
   ]
  },
  {
   "cell_type": "code",
   "execution_count": 53,
   "id": "5aad6e0e-be09-4889-9f14-e0595e0d152d",
   "metadata": {},
   "outputs": [
    {
     "name": "stdout",
     "output_type": "stream",
     "text": [
      "1\n",
      "3\n",
      "5\n",
      "7\n",
      "9\n"
     ]
    }
   ],
   "source": [
    "z = [1,3,5,7,9]\n",
    "for i in z :\n",
    "    print(i)"
   ]
  },
  {
   "cell_type": "code",
   "execution_count": null,
   "id": "34b4b033-29bd-4c07-9b07-f43e6af831e4",
   "metadata": {},
   "outputs": [],
   "source": [
    "# write a program to ask name of five stidents and store it in a list."
   ]
  },
  {
   "cell_type": "code",
   "execution_count": 73,
   "id": "0ec2a3d2-f83f-4dcb-b190-ed2a511f229c",
   "metadata": {},
   "outputs": [
    {
     "name": "stdin",
     "output_type": "stream",
     "text": [
      "enter name of student sita\n",
      "enter name of student gita\n",
      "enter name of student rita\n",
      "enter name of student mita\n",
      "enter name of student quita\n"
     ]
    },
    {
     "name": "stdout",
     "output_type": "stream",
     "text": [
      "['sita', 'gita', 'rita', 'mita', 'quita']\n"
     ]
    }
   ],
   "source": [
    "students =[]\n",
    "for i in range (5):\n",
    "    name =input(\"enter name of student\")\n",
    "    students.append(name)   #.append ley list ko last ma thapdai janxa \n",
    "\n",
    "print(students)"
   ]
  },
  {
   "cell_type": "code",
   "execution_count": 78,
   "id": "58200907-887b-4ec8-87b4-5df561fa5c1e",
   "metadata": {},
   "outputs": [
    {
     "name": "stdout",
     "output_type": "stream",
     "text": [
      "['a', 'b', 'c', 'd', 'e', 'f', 'G', 'h']\n",
      "['a', 'b', 'c', 'd', 'k', 'e', 'f', 'G', 'h']\n",
      "['a', 'b', 'd', 'k', 'e', 'f', 'G', 'h']\n",
      "['d', 'k', 'e', 'f', 'G', 'h']\n"
     ]
    }
   ],
   "source": [
    "q=[\"a\",\"b\",\"c\",\"d\",\"e\"]\n",
    "q.extend([\"f\",\"G\",\"h\"])   #entend ley 2 or more then 2   data lai last ma thapdai janxa \n",
    "print(q)\n",
    "\n",
    "q.insert(4,\"k\")    #insert ley jun position ma new value chiyeko xa tesma add garxa\n",
    "print(q)\n",
    "\n",
    "del(q[2])     # 2nd position ma bhayeko element del garxa \n",
    "print(q)\n",
    "\n",
    "del(q[0:2])    #right dekhi deyeko range ko element del garxa eg:0:2 ma suru ma aauney 3 ota element del gardieyeko cha.\n",
    "print(q)"
   ]
  },
  {
   "cell_type": "code",
   "execution_count": null,
   "id": "a97bbe83-e2d5-488c-9ea1-f14e2725c28c",
   "metadata": {},
   "outputs": [],
   "source": []
  }
 ],
 "metadata": {
  "kernelspec": {
   "display_name": "Python 3 (ipykernel)",
   "language": "python",
   "name": "python3"
  },
  "language_info": {
   "codemirror_mode": {
    "name": "ipython",
    "version": 3
   },
   "file_extension": ".py",
   "mimetype": "text/x-python",
   "name": "python",
   "nbconvert_exporter": "python",
   "pygments_lexer": "ipython3",
   "version": "3.12.3"
  }
 },
 "nbformat": 4,
 "nbformat_minor": 5
}

{
 "cells": [
  {
   "cell_type": "code",
   "execution_count": 15,
   "id": "8294792d-f6a9-4235-b84e-e021c6979844",
   "metadata": {},
   "outputs": [
    {
     "name": "stdout",
     "output_type": "stream",
     "text": [
      "55\n"
     ]
    }
   ],
   "source": [
    " #1. Create a list of the first 10 positive integers. Write a for loop that calculates and prints the sum of all numbers in the list.\n",
    "A=[1,2,3,4,5,6,7,8,9,10]\n",
    "sum=0\n",
    "for i in range(11):\n",
    "  sum+=i\n",
    "print(sum)\n",
    "\n",
    "\n",
    "\n"
   ]
  },
  {
   "cell_type": "code",
   "execution_count": 9,
   "id": "d371d126-a893-424f-bd3c-b55c436551ef",
   "metadata": {},
   "outputs": [
    {
     "name": "stdout",
     "output_type": "stream",
     "text": [
      "1 Bahubali\n",
      "2 Gaddar-2\n",
      "3 3-idiots\n",
      "4 Dangal\n",
      "5 P.K\n"
     ]
    }
   ],
   "source": [
    "#Q2. Create a list of your five favorite movies. Write a for loop that prints each movie along with its position in the list (e.g., \"1. Inception\").\n",
    "favorite_movies = [\"Bahubali\",\"Gaddar-2\",\"3-idiots\", \"Dangal\",\"P.K\"]\n",
    "count=0\n",
    "for movies in favorite_movies:\n",
    "    count += 1\n",
    "    print(count, movies)\n"
   ]
  },
  {
   "cell_type": "code",
   "execution_count": 5,
   "id": "49602eee-2f54-4bf1-8f5d-c6ed056f071b",
   "metadata": {},
   "outputs": [
    {
     "name": "stdout",
     "output_type": "stream",
     "text": [
      "[2.2, 4.4, 6.6, 8.8, 11.0]\n"
     ]
    }
   ],
   "source": [
    "\n",
    "#Q3. Given a list of strings representing decimal numbers (e.g., ['1.1', '2.2', '3.3']), write a for loop that converts each string to a float, doubles the value, and prints the result.\n",
    "\n",
    "string=['1.1','2.2', '3.3','4.4','5.5']\n",
    "float_numbers=[]\n",
    "for i in string:\n",
    "    x=float(i)\n",
    "    float_numbers.append(x*2)\n",
    "print(float_numbers)\n",
    "\n",
    "\n"
   ]
  },
  {
   "cell_type": "code",
   "execution_count": null,
   "id": "72f2b706-e078-417f-89bf-3b5e330396d2",
   "metadata": {},
   "outputs": [],
   "source": []
  },
  {
   "cell_type": "code",
   "execution_count": null,
   "id": "9aff30bf-6441-4346-9628-e120f1b67fbe",
   "metadata": {},
   "outputs": [],
   "source": []
  },
  {
   "cell_type": "code",
   "execution_count": null,
   "id": "18eedb0f-eb6a-4045-8ba6-38fc40af00ec",
   "metadata": {},
   "outputs": [],
   "source": []
  },
  {
   "cell_type": "code",
   "execution_count": 14,
   "id": "18c4b837-abb4-41d6-bc66-36199571c1fa",
   "metadata": {},
   "outputs": [
    {
     "name": "stdin",
     "output_type": "stream",
     "text": [
      "enter name ram\n",
      "enter name hari\n",
      "enter name awan\n",
      "enter name Ashman\n",
      "enter name ashma\n",
      "enter name laxman\n",
      "enter name Aditya\n",
      "enter name anish\n",
      "enter name anisha\n",
      "enter name manoj\n"
     ]
    },
    {
     "name": "stdout",
     "output_type": "stream",
     "text": [
      "awan\n",
      "Ashman\n",
      "ashma\n",
      "Aditya\n",
      "anish\n",
      "anisha\n"
     ]
    }
   ],
   "source": [
    "\n",
    "#Q5. ⁠WAP that asks 10 user with their name and store them in a list. Print the name of only those users whose name starts with ‘a’ or ‘A’\n",
    "\n",
    "name= []\n",
    "for i in range (10):\n",
    "    A=input(\"enter name\")\n",
    "    name.append(A)\n",
    "\n",
    "for i in name:\n",
    "    if (i[0]==\"A\" or i[0]==\"a\"):\n",
    "        print(i)\n"
   ]
  },
  {
   "cell_type": "code",
   "execution_count": 2,
   "id": "6eb55463-bbcb-40bd-9d10-1f514ac1e1cb",
   "metadata": {},
   "outputs": [
    {
     "name": "stdin",
     "output_type": "stream",
     "text": [
      "Enter Name laxman\n",
      "Enter Name ram\n",
      "Enter Name hari\n",
      "Enter Name adity\n",
      "Enter Name aditya\n",
      "Enter Name Awan\n",
      "Enter Name manoj\n",
      "Enter Name amrita\n",
      "Enter Name AArati\n",
      "Enter Name Aradhana\n"
     ]
    },
    {
     "name": "stdout",
     "output_type": "stream",
     "text": [
      "aditya\n",
      "amrita\n",
      "Aradhana\n"
     ]
    }
   ],
   "source": [
    "\n",
    "#Q6. ⁠WAP that asks 10 user with their name and store them in a list. Print the name of only those users whose name ends with ‘a’ or ‘A’\n",
    "\n",
    "\n",
    "Name = []\n",
    "\n",
    "for i in range (10):\n",
    "    x=input(\"Enter Name\")\n",
    "    Name.append(x)\n",
    "\n",
    "for i in Name:\n",
    "    if(i[-1]==\"A\" or i[-1]==\"a\"):\n",
    "        print(i)"
   ]
  },
  {
   "cell_type": "code",
   "execution_count": 22,
   "id": "e7b66ad6-2daa-405c-a10b-2c03489bf709",
   "metadata": {},
   "outputs": [
    {
     "ename": "TypeError",
     "evalue": "'list' object is not callable",
     "output_type": "error",
     "traceback": [
      "\u001b[1;31m---------------------------------------------------------------------------\u001b[0m",
      "\u001b[1;31mTypeError\u001b[0m                                 Traceback (most recent call last)",
      "Cell \u001b[1;32mIn[22], line 4\u001b[0m\n\u001b[0;32m      2\u001b[0m string\u001b[38;5;241m=\u001b[39m[]\n\u001b[0;32m      3\u001b[0m \u001b[38;5;28;01mfor\u001b[39;00m i \u001b[38;5;129;01min\u001b[39;00m number:\n\u001b[1;32m----> 4\u001b[0m     string\u001b[38;5;241m.\u001b[39mappend(\u001b[43mstring\u001b[49m\u001b[43m(\u001b[49m\u001b[43mi\u001b[49m\u001b[43m)\u001b[49m)\n\u001b[0;32m      5\u001b[0m \u001b[38;5;28mprint\u001b[39m(string)\n",
      "\u001b[1;31mTypeError\u001b[0m: 'list' object is not callable"
     ]
    }
   ],
   "source": [
    "number=[1,2,3,4,5,6,7,8,9,10,11,12,13,14,15,16,17,18,19,20]\n",
    "string=[]\n",
    "for i in number:\n",
    "    string.append(string(i))\n",
    "print(string)\n"
   ]
  },
  {
   "cell_type": "code",
   "execution_count": null,
   "id": "84d95202-b867-46c0-9eb1-ccd7c5f4eb7c",
   "metadata": {},
   "outputs": [],
   "source": []
  }
 ],
 "metadata": {
  "kernelspec": {
   "display_name": "Python 3 (ipykernel)",
   "language": "python",
   "name": "python3"
  },
  "language_info": {
   "codemirror_mode": {
    "name": "ipython",
    "version": 3
   },
   "file_extension": ".py",
   "mimetype": "text/x-python",
   "name": "python",
   "nbconvert_exporter": "python",
   "pygments_lexer": "ipython3",
   "version": "3.12.3"
  }
 },
 "nbformat": 4,
 "nbformat_minor": 5
}

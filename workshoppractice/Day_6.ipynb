{
 "cells": [
  {
   "cell_type": "code",
   "execution_count": null,
   "id": "fb8f29af-c55d-439f-b2f1-6175532c98ce",
   "metadata": {},
   "outputs": [],
   "source": [
    "#Inheritance  (single label)"
   ]
  },
  {
   "cell_type": "code",
   "execution_count": 18,
   "id": "85bca748-d11a-47c5-915b-e140f278f13c",
   "metadata": {},
   "outputs": [
    {
     "ename": "TypeError",
     "evalue": "Cannot create a consistent method resolution\norder (MRO) for bases car, BYD",
     "output_type": "error",
     "traceback": [
      "\u001b[1;31m---------------------------------------------------------------------------\u001b[0m",
      "\u001b[1;31mTypeError\u001b[0m                                 Traceback (most recent call last)",
      "Cell \u001b[1;32mIn[18], line 18\u001b[0m\n\u001b[0;32m     14\u001b[0m     \u001b[38;5;129m@staticmethod\u001b[39m\n\u001b[0;32m     15\u001b[0m     \u001b[38;5;28;01mdef\u001b[39;00m  \u001b[38;5;21macc\u001b[39m():\n\u001b[0;32m     16\u001b[0m         \u001b[38;5;28mprint\u001b[39m(\u001b[38;5;124m\"\u001b[39m\u001b[38;5;124mThe car has acceleratation\u001b[39m\u001b[38;5;124m\"\u001b[39m)\n\u001b[1;32m---> 18\u001b[0m \u001b[38;5;28;43;01mclass\u001b[39;49;00m\u001b[43m \u001b[49m\u001b[38;5;21;43;01mDolphin\u001b[39;49;00m\u001b[43m(\u001b[49m\u001b[43mcar\u001b[49m\u001b[43m,\u001b[49m\u001b[43mBYD\u001b[49m\u001b[43m)\u001b[49m\u001b[43m:\u001b[49m\n\u001b[0;32m     20\u001b[0m \u001b[43m    \u001b[49m\u001b[38;5;129;43m@staticmethod\u001b[39;49m\n\u001b[0;32m     21\u001b[0m \u001b[43m    \u001b[49m\u001b[38;5;28;43;01mdef\u001b[39;49;00m\u001b[43m \u001b[49m\u001b[38;5;21;43mdolphin\u001b[39;49m\u001b[43m(\u001b[49m\u001b[43m)\u001b[49m\u001b[43m:\u001b[49m\n\u001b[0;32m     22\u001b[0m \u001b[43m        \u001b[49m\u001b[38;5;28;43mprint\u001b[39;49m\u001b[43m(\u001b[49m\u001b[38;5;124;43m\"\u001b[39;49m\u001b[38;5;124;43mdolphin\u001b[39;49m\u001b[38;5;124;43m\"\u001b[39;49m\u001b[43m)\u001b[49m\n",
      "\u001b[1;31mTypeError\u001b[0m: Cannot create a consistent method resolution\norder (MRO) for bases car, BYD"
     ]
    }
   ],
   "source": [
    "class car:\n",
    "    \n",
    "    @staticmethod\n",
    "    def __start():\n",
    "        print(\"The cars has started\")\n",
    "\n",
    "    @staticmethod\n",
    "    def stop():\n",
    "        print(\"The car has been stoped\")\n",
    "\n",
    "\n",
    "class BYD(car):\n",
    "\n",
    "    @staticmethod\n",
    "    def  acc():\n",
    "        print(\"The car has acceleratation\")\n",
    "\n",
    "class Dolphin(car,BYD):\n",
    "    \n",
    "    @staticmethod\n",
    "    def dolphin():\n",
    "        print(\"dolphin\")\n",
    "\n",
    "\n",
    "b=BYD()\n",
    "b.start()\n",
    "b.stop()  \n",
    "b.acc()\n"
   ]
  },
  {
   "cell_type": "code",
   "execution_count": null,
   "id": "ac2888b2-6475-4e45-9255-53178569b187",
   "metadata": {},
   "outputs": [],
   "source": []
  },
  {
   "cell_type": "code",
   "execution_count": null,
   "id": "2bc3c71f-8510-4e20-905b-aade58ab4863",
   "metadata": {},
   "outputs": [],
   "source": []
  },
  {
   "cell_type": "code",
   "execution_count": null,
   "id": "e7da00a2-f9c9-4dfc-977b-627e4da58ac7",
   "metadata": {},
   "outputs": [],
   "source": []
  },
  {
   "cell_type": "code",
   "execution_count": null,
   "id": "dad798e8-6d69-46df-8029-bd309ffc5598",
   "metadata": {},
   "outputs": [],
   "source": []
  },
  {
   "cell_type": "code",
   "execution_count": null,
   "id": "97f24755-2c3d-499b-b8b0-324070d9e720",
   "metadata": {},
   "outputs": [],
   "source": []
  }
 ],
 "metadata": {
  "kernelspec": {
   "display_name": "Python 3 (ipykernel)",
   "language": "python",
   "name": "python3"
  },
  "language_info": {
   "codemirror_mode": {
    "name": "ipython",
    "version": 3
   },
   "file_extension": ".py",
   "mimetype": "text/x-python",
   "name": "python",
   "nbconvert_exporter": "python",
   "pygments_lexer": "ipython3",
   "version": "3.12.3"
  }
 },
 "nbformat": 4,
 "nbformat_minor": 5
}

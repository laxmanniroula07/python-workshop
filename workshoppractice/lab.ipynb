{
 "cells": [
  {
   "cell_type": "code",
   "execution_count": null,
   "id": "698c07bb-d04d-4670-96f3-f5b947e2d441",
   "metadata": {},
   "outputs": [],
   "source": []
  }
 ],
 "metadata": {
  "kernelspec": {
   "display_name": "",
   "name": ""
  },
  "language_info": {
   "name": ""
  }
 },
 "nbformat": 4,
 "nbformat_minor": 5
}

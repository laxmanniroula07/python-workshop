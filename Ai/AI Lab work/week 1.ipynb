{
 "cells": [
  {
   "cell_type": "code",
   "execution_count": null,
   "id": "e7056516-3d0b-4842-ad00-63af1c8c8f29",
   "metadata": {},
   "outputs": [],
   "source": [
    "week 1 excercise:"
   ]
  },
  {
   "cell_type": "code",
   "execution_count": 6,
   "id": "1a41b7c4-580f-43f6-9238-4cd5bca13ebc",
   "metadata": {},
   "outputs": [
    {
     "name": "stdout",
     "output_type": "stream",
     "text": [
      "4\n"
     ]
    }
   ],
   "source": [
    "#variables\n",
    "a=2\n",
    "b= a*a\n",
    "print(b)\n",
    "name=\"hary\"  #single or double quoted allowed"
   ]
  },
  {
   "cell_type": "code",
   "execution_count": 7,
   "id": "87df07a9-b8d1-4205-9ad6-392bdca801a5",
   "metadata": {},
   "outputs": [
    {
     "name": "stdout",
     "output_type": "stream",
     "text": [
      "200\n",
      "400.0\n",
      "burno\n"
     ]
    }
   ],
   "source": [
    "counter = 100 #An integer assignment\n",
    "miles = 1000 #Afloating poitn assignment\n",
    "name =\"burno\" # A string assignment\n",
    "\n",
    "count = counter * 2\n",
    "print(count)\n",
    "\n",
    "travel = miles/2.5\n",
    "print(travel)\n",
    "print(name)"
   ]
  },
  {
   "cell_type": "code",
   "execution_count": 8,
   "id": "81204047-22a5-46e6-acae-ebc92f43a3fd",
   "metadata": {},
   "outputs": [
    {
     "name": "stdout",
     "output_type": "stream",
     "text": [
      "[1, 2, 3]\n",
      "[1, 2, 3, 4, 5, 6]\n",
      "[1, 2, 3, 4, 5, 6, 0]\n"
     ]
    }
   ],
   "source": [
    "z = [1,2,3]\n",
    "print(z)\n",
    "z.extend([4,5,6])\n",
    "print(z)\n",
    "z.append(0)\n",
    "print(z)\n"
   ]
  },
  {
   "cell_type": "code",
   "execution_count": 9,
   "id": "ca42d9af-691f-45e3-b691-824669133a8e",
   "metadata": {},
   "outputs": [
    {
     "name": "stdout",
     "output_type": "stream",
     "text": [
      "3\n"
     ]
    },
    {
     "data": {
      "text/plain": [
       "False"
      ]
     },
     "execution_count": 9,
     "metadata": {},
     "output_type": "execute_result"
    }
   ],
   "source": [
    "#Lists can be modified\n",
    "integer_list = [1,2,3,4,5,6,7,8,9]\n",
    "print(integer_list[2]) #indidces of a list by[]\n",
    "23 in integer_list   #checks if 23 is in the integer_list"
   ]
  },
  {
   "cell_type": "code",
   "execution_count": 10,
   "id": "6dc7f5a5-9145-492b-b229-4d6050f1619c",
   "metadata": {},
   "outputs": [
    {
     "name": "stdout",
     "output_type": "stream",
     "text": [
      "[1, 2]\n",
      "[5, 6, 7, 8, 9]\n"
     ]
    }
   ],
   "source": [
    "l = [] #example of an array structure\n",
    "l.append(['a','b','c'])\n",
    "l.append(['d','e','f']) #results in [['a','b','c'],['d','e','f']]\n",
    "first_two = integer_list[:2]\n",
    "print(first_two)\n",
    "four_to_end = integer_list[4:]\n",
    "print(four_to_end)"
   ]
  },
  {
   "cell_type": "code",
   "execution_count": 11,
   "id": "3e5695c8-8725-4742-82d0-4a8636d1161e",
   "metadata": {},
   "outputs": [
    {
     "name": "stdout",
     "output_type": "stream",
     "text": [
      "[1, 2, 3, 4, 5]\n",
      "[4, 2, 3, 1, 5]\n",
      "[1, 2, 3, 4, 5]\n",
      "[4, 2, 3, 1, 5]\n"
     ]
    },
    {
     "data": {
      "text/plain": [
       "<function list.sort(*, key=None, reverse=False)>"
      ]
     },
     "execution_count": 11,
     "metadata": {},
     "output_type": "execute_result"
    }
   ],
   "source": [
    "#all lists have a sort method\n",
    "x =[4,2,3,1,5]\n",
    "print(sorted(x)) #[1, 2, 3, 4, 5]\n",
    "print(x) #[4,2,3,1,5]\n",
    "y = sorted(x)\n",
    "print(y) #[1,2,3,4,5]\n",
    "print(x) #[4,3,2,1,5]\n",
    "x.sort #sort() is the method print(X) # [1,2,3,4,5]"
   ]
  },
  {
   "cell_type": "code",
   "execution_count": 12,
   "id": "4ffe7046-14bd-4a7a-8014-a9438ee00b56",
   "metadata": {},
   "outputs": [
    {
     "name": "stdout",
     "output_type": "stream",
     "text": [
      "[1, 3]\n"
     ]
    }
   ],
   "source": [
    "# transforming lists\n",
    "x=[1,2,3,4,5]\n",
    "evens =[x for x in range(5) if x%2 ==0]\n",
    "odd =[x for x in range (5) if x%2>0]\n",
    "print(odd) #[0,2,4]"
   ]
  },
  {
   "cell_type": "code",
   "execution_count": 13,
   "id": "8417b0e3-7b6d-4bba-b950-3912a1290c4c",
   "metadata": {},
   "outputs": [
    {
     "name": "stdout",
     "output_type": "stream",
     "text": [
      "(3, 4)\n"
     ]
    }
   ],
   "source": [
    "# tuples - like lists but cant be changed.Use () or no braces\n",
    "mytuple1 =(1,2)\n",
    "mytuple2 = 3,4\n",
    "print(mytuple2)"
   ]
  },
  {
   "cell_type": "code",
   "execution_count": 14,
   "id": "84bb0f2c-f143-468f-97ab-bbb41359606d",
   "metadata": {},
   "outputs": [
    {
     "name": "stdout",
     "output_type": "stream",
     "text": [
      "80\n",
      "{'date': 0.0625, 'symbol': 'fox', 'price': 4.44}\n"
     ]
    }
   ],
   "source": [
    "#dictionaries \n",
    "emptydict = {}\n",
    "emptydict2 = {}\n",
    "grades = {\"jo\" : 80, \"tin\" : 90}\n",
    "print(grades[\"jo\"])\n",
    "s = {}\n",
    "s[1] = {'date' : 1/1/16, 'symbol':'fox','price':4.44}\n",
    "s[2] = {'date' : 2/1/16, 'symbol':'2ppl','price':24.44}\n",
    "print(s[1])"
   ]
  },
  {
   "cell_type": "code",
   "execution_count": 20,
   "id": "3dd31f5b-c246-48f2-8018-16b192de23e0",
   "metadata": {},
   "outputs": [
    {
     "name": "stdout",
     "output_type": "stream",
     "text": [
      "Counter({1: 2, 0: 1, 2: 1})\n"
     ]
    },
    {
     "data": {
      "text/plain": [
       "Counter({0: 2, 1: 1, 2: 1})"
      ]
     },
     "execution_count": 20,
     "metadata": {},
     "output_type": "execute_result"
    }
   ],
   "source": [
    "#useful for histograms\n",
    "from collections import Counter\n",
    "c = Counter([0,1,2,1])\n",
    "print(c)\n",
    "Counter({0:2,1: 1,2:1})"
   ]
  },
  {
   "cell_type": "code",
   "execution_count": 15,
   "id": "42ee09b5-15c1-428f-b6be-1abd0807948f",
   "metadata": {},
   "outputs": [
    {
     "name": "stdout",
     "output_type": "stream",
     "text": [
      "True\n",
      "False\n"
     ]
    }
   ],
   "source": [
    "#stopwords - very fast checking of members\n",
    "stopwords =set =[\"a\", \"an\", \"the\", \"yet\", \"you\"]  # and many other words\n",
    "print(\"yet\" in stopwords)\n",
    "print(\"going\" in stopwords)"
   ]
  },
  {
   "cell_type": "code",
   "execution_count": 26,
   "id": "63a6396f-7ff3-40e5-9ae9-f23f5f54c148",
   "metadata": {},
   "outputs": [
    {
     "name": "stdout",
     "output_type": "stream",
     "text": [
      "9\n",
      "9\n"
     ]
    }
   ],
   "source": [
    "#functions\n",
    "def mysquare(x):\n",
    "    return(x * x)\n",
    "mn = 3\n",
    "print(mysquare(mn))\n",
    "\n",
    "#one off 'lambda' functions\n",
    "add_five = lambda number : number + 5\n",
    "print(add_five(number=4))"
   ]
  },
  {
   "cell_type": "code",
   "execution_count": 30,
   "id": "5ae855e0-c1b0-400e-a1c6-d45367399f0d",
   "metadata": {},
   "outputs": [
    {
     "name": "stdout",
     "output_type": "stream",
     "text": [
      "0.5714025946899135\n",
      "found word:cat\n",
      "<re.Match object; span=(1, 4), match='iii'>\n",
      "None\n",
      "<zip object at 0x0000020E1DF651C0>\n",
      "(1, 2, 3)\n",
      "(4, 5, 6)\n"
     ]
    },
    {
     "data": {
      "text/plain": [
       "False"
      ]
     },
     "execution_count": 30,
     "metadata": {},
     "output_type": "execute_result"
    }
   ],
   "source": [
    "# 1. Random\n",
    "import random\n",
    "random.seed(10)\n",
    "print(random.random())\n",
    "\n",
    "# 2. Regular expressions\n",
    "import re\n",
    "str = 'an example word:cat!!'\n",
    "match = re.search(r'word:\\w\\w\\w', str)\n",
    "# If statement after search() tests if it succeeded\n",
    "if match:\n",
    "    print('found', match.group())  ## 'found word:cat'\n",
    "else:\n",
    "    print('did not find')\n",
    "\n",
    "# Search for pattern 'iii' in string 'piiig'\n",
    "# All of the pattern must match, but it may appear anywhere.\n",
    "match = re.search(r'iii', 'piiig')  # found, match.group() == \"iii\"\n",
    "print(match)\n",
    "match = re.search(r'igs', 'piiig')  # not found, match == None\n",
    "print(match)\n",
    "\n",
    "# 3. zipping data together: zip() method works left to right\n",
    "x = [1, 2, 3]\n",
    "y = [4, 5, 6, 0]\n",
    "zipped = zip(x, y)\n",
    "print(zipped)  # (1, 4), (2, 5), (3, 6)\n",
    "x2, y2 = zip(*zipped)\n",
    "print(x2)\n",
    "print(y2)\n",
    "x == list(x2) and y == list(y2)"
   ]
  },
  {
   "cell_type": "code",
   "execution_count": 34,
   "id": "c23c4f45-dd44-4cee-97bd-e3ce2c2b5219",
   "metadata": {},
   "outputs": [
    {
     "name": "stdout",
     "output_type": "stream",
     "text": [
      "Name :  Zara , Salary:  2800\n",
      "Name :  Manni , Salary:  5000\n",
      "Total Employee 2\n"
     ]
    }
   ],
   "source": [
    "class Employee:\n",
    "    'Common base class for all employees'\n",
    "    empCount = 0\n",
    "\n",
    "    def __init__(self, name, salary):  # class constructor\n",
    "        self.name = name\n",
    "        self.salary = salary\n",
    "        Employee.empCount += 1\n",
    "\n",
    "    def displayCount(self):  # further methods are defined like functions\n",
    "        print(\"Total Employee %d\" % Employee.empCount)\n",
    "\n",
    "    def displayEmployee(self):\n",
    "        print(\"Name : \", self.name, \", Salary: \", self.salary)\n",
    "\n",
    "\n",
    "# This would create the first object of Employee class\n",
    "emp1 = Employee(\"Zara\", 2800)\n",
    "# This would create the second object of Employee class\n",
    "emp2 = Employee(\"Manni\", 5000)\n",
    "emp1.displayEmployee()\n",
    "emp2.displayEmployee()\n",
    "print(\"Total Employee %d\" % Employee.empCount)\n"
   ]
  },
  {
   "cell_type": "code",
   "execution_count": 1,
   "id": "58032d36-0fd0-4ee1-888e-b1cc83e79588",
   "metadata": {},
   "outputs": [
    {
     "name": "stdout",
     "output_type": "stream",
     "text": [
      "1. Fahrenheit to Centigrade\n",
      "2. Centigrade to Fahrenheit\n"
     ]
    },
    {
     "name": "stdin",
     "output_type": "stream",
     "text": [
      "Enter your choice (1 or 2):  1\n",
      "Enter temperature in Fahrenheit:  300\n"
     ]
    },
    {
     "name": "stdout",
     "output_type": "stream",
     "text": [
      "300.0 Fahrenheit is equal to 482.40 Centigrade\n"
     ]
    }
   ],
   "source": [
    "def Fahrenheit_to_Centigrade(Fahrenheit):\n",
    "    #To convert fahrenheit to centigrade\n",
    "    Centigrade = (Fahrenheit - 32) * 1.8\n",
    "    return Centigrade\n",
    "\n",
    "def Centigrade_to_Fahrenheit(Centigrade):\n",
    "    #To convert centigrade to fahrenheit\n",
    "    Fahrenheit = (Centigrade * 1.8) + 32\n",
    "    return Fahrenheit\n",
    "\n",
    "def main():\n",
    "    print(\"1. Fahrenheit to Centigrade\")\n",
    "    print(\"2. Centigrade to Fahrenheit\")\n",
    "    \n",
    "    Select = input(\"Enter your choice (1 or 2): \")\n",
    "    \n",
    "    if Select == '1':\n",
    "        Fahrenheit = float(input(\"Enter temperature in Fahrenheit: \"))\n",
    "        Centigrade = Fahrenheit_to_Centigrade(Fahrenheit)\n",
    "        print(f\"{Fahrenheit} Fahrenheit is equal to {Centigrade:.2f} Centigrade\")\n",
    "    elif Select == '2':\n",
    "        Centigrade = float(input(\"Enter temperature in Centigrade: \"))\n",
    "        Fahrenheit = Centigrade_to_Fahrenheit(Centigrade)\n",
    "        print(f\"{Centigrade} Centigrade is equal to {Fahrenheit:.2f} Fahrenheit\")\n",
    "    else:\n",
    "        print(\"Please enter 1 or 2.\")\n",
    "\n",
    "if __name__ == \"__main__\":\n",
    "    main()\n"
   ]
  },
  {
   "cell_type": "code",
   "execution_count": 3,
   "id": "a196c7f6-7392-414b-b403-f611636ed8f8",
   "metadata": {},
   "outputs": [
    {
     "name": "stdin",
     "output_type": "stream",
     "text": [
      "Enter total number you want to average:  10\n",
      "Enter number 1:  20\n",
      "Enter number 2:  15\n",
      "Enter number 3:  24\n",
      "Enter number 4:  15\n",
      "Enter number 5:  43\n",
      "Enter number 6:  15\n",
      "Enter number 7:  21\n",
      "Enter number 8:  50\n",
      "Enter number 9:  10\n",
      "Enter number 10:  11\n"
     ]
    },
    {
     "name": "stdout",
     "output_type": "stream",
     "text": [
      "The average is: 22.40\n"
     ]
    }
   ],
   "source": [
    "def calculate_average():\n",
    "    total_numbers = int(input(\"Enter total number you want to average: \"))\n",
    "\n",
    "    if total_numbers <= 0:\n",
    "        print(\"Values must be greater than zero.\")\n",
    "        return\n",
    "\n",
    "    total_sum = 0\n",
    "\n",
    "    for i in range(total_numbers):\n",
    "        number = float(input(f\"Enter number {i + 1}: \"))\n",
    "        total_sum += number\n",
    "\n",
    "    average = total_sum / total_numbers\n",
    "    print(f\"The average is: {average:.2f}\")\n",
    "\n",
    "if __name__ == \"__main__\":\n",
    "    calculate_average()\n"
   ]
  },
  {
   "cell_type": "code",
   "execution_count": null,
   "id": "2b5a105d-1fe5-4e7a-a2e2-6e430e99fa6e",
   "metadata": {},
   "outputs": [],
   "source": []
  }
 ],
 "metadata": {
  "kernelspec": {
   "display_name": "Python 3 (ipykernel)",
   "language": "python",
   "name": "python3"
  },
  "language_info": {
   "codemirror_mode": {
    "name": "ipython",
    "version": 3
   },
   "file_extension": ".py",
   "mimetype": "text/x-python",
   "name": "python",
   "nbconvert_exporter": "python",
   "pygments_lexer": "ipython3",
   "version": "3.12.3"
  }
 },
 "nbformat": 4,
 "nbformat_minor": 5
}

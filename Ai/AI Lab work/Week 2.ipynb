{
 "cells": [
  {
   "cell_type": "code",
   "execution_count": 1,
   "id": "ea55c62d-d6fe-415d-ae8f-1f176b98ee7b",
   "metadata": {},
   "outputs": [
    {
     "name": "stdout",
     "output_type": "stream",
     "text": [
      "Collecting sympy\n",
      "  Downloading sympy-1.12.1-py3-none-any.whl.metadata (12 kB)\n",
      "Collecting mpmath<1.4.0,>=1.1.0 (from sympy)\n",
      "  Downloading mpmath-1.3.0-py3-none-any.whl.metadata (8.6 kB)\n",
      "Downloading sympy-1.12.1-py3-none-any.whl (5.7 MB)\n",
      "   ---------------------------------------- 0.0/5.7 MB ? eta -:--:--\n",
      "   ---------------------------------------- 0.0/5.7 MB 653.6 kB/s eta 0:00:09\n",
      "   - -------------------------------------- 0.2/5.7 MB 1.7 MB/s eta 0:00:04\n",
      "   -- ------------------------------------- 0.3/5.7 MB 2.2 MB/s eta 0:00:03\n",
      "   ---- ----------------------------------- 0.6/5.7 MB 3.2 MB/s eta 0:00:02\n",
      "   ----- ---------------------------------- 0.9/5.7 MB 3.6 MB/s eta 0:00:02\n",
      "   ------- -------------------------------- 1.1/5.7 MB 3.8 MB/s eta 0:00:02\n",
      "   --------- ------------------------------ 1.3/5.7 MB 4.0 MB/s eta 0:00:02\n",
      "   ----------- ---------------------------- 1.6/5.7 MB 4.2 MB/s eta 0:00:01\n",
      "   ------------ --------------------------- 1.8/5.7 MB 4.3 MB/s eta 0:00:01\n",
      "   -------------- ------------------------- 2.1/5.7 MB 4.5 MB/s eta 0:00:01\n",
      "   ----------------- ---------------------- 2.4/5.7 MB 4.6 MB/s eta 0:00:01\n",
      "   ------------------- -------------------- 2.7/5.7 MB 4.8 MB/s eta 0:00:01\n",
      "   --------------------- ------------------ 3.0/5.7 MB 5.0 MB/s eta 0:00:01\n",
      "   ----------------------- ---------------- 3.4/5.7 MB 5.1 MB/s eta 0:00:01\n",
      "   ------------------------- -------------- 3.6/5.7 MB 5.1 MB/s eta 0:00:01\n",
      "   -------------------------- ------------- 3.8/5.7 MB 5.1 MB/s eta 0:00:01\n",
      "   ---------------------------- ----------- 4.1/5.7 MB 5.1 MB/s eta 0:00:01\n",
      "   ------------------------------ --------- 4.3/5.7 MB 5.1 MB/s eta 0:00:01\n",
      "   ------------------------------- -------- 4.6/5.7 MB 5.0 MB/s eta 0:00:01\n",
      "   --------------------------------- ------ 4.9/5.7 MB 5.2 MB/s eta 0:00:01\n",
      "   ----------------------------------- ---- 5.2/5.7 MB 5.2 MB/s eta 0:00:01\n",
      "   ------------------------------------- -- 5.4/5.7 MB 5.2 MB/s eta 0:00:01\n",
      "   ---------------------------------------  5.7/5.7 MB 5.2 MB/s eta 0:00:01\n",
      "   ---------------------------------------  5.7/5.7 MB 5.2 MB/s eta 0:00:01\n",
      "   ---------------------------------------- 5.7/5.7 MB 4.9 MB/s eta 0:00:00\n",
      "Downloading mpmath-1.3.0-py3-none-any.whl (536 kB)\n",
      "   ---------------------------------------- 0.0/536.2 kB ? eta -:--:--\n",
      "   ---------------- ----------------------- 225.3/536.2 kB 6.9 MB/s eta 0:00:01\n",
      "   ------------------------------------- -- 501.8/536.2 kB 6.3 MB/s eta 0:00:01\n",
      "   ---------------------------------------- 536.2/536.2 kB 4.8 MB/s eta 0:00:00\n",
      "Installing collected packages: mpmath, sympy\n",
      "Successfully installed mpmath-1.3.0 sympy-1.12.1\n",
      "Note: you may need to restart the kernel to use updated packages.\n"
     ]
    }
   ],
   "source": [
    "pip install sympy"
   ]
  },
  {
   "cell_type": "code",
   "execution_count": 4,
   "id": "f37eaa6b-ceae-4e5a-944b-79bee536bd99",
   "metadata": {},
   "outputs": [
    {
     "name": "stdout",
     "output_type": "stream",
     "text": [
      "Requirement already satisfied: pip in c:\\users\\admin\\appdata\\local\\programs\\python\\python312\\lib\\site-packages (24.1.1)\n",
      "Note: you may need to restart the kernel to use updated packages.\n"
     ]
    }
   ],
   "source": [
    "pip install --upgrade pip"
   ]
  },
  {
   "cell_type": "code",
   "execution_count": 5,
   "id": "e9c5fe9e-372a-46b0-96bf-1957ddcbce00",
   "metadata": {},
   "outputs": [
    {
     "name": "stdout",
     "output_type": "stream",
     "text": [
      "Collecting minikanren\n",
      "  Downloading miniKanren-1.0.3.tar.gz (41 kB)\n",
      "     ---------------------------------------- 0.0/41.3 kB ? eta -:--:--\n",
      "     -------------------------------------  41.0/41.3 kB 991.0 kB/s eta 0:00:01\n",
      "     -------------------------------------- 41.3/41.3 kB 501.5 kB/s eta 0:00:00\n",
      "  Preparing metadata (setup.py): started\n",
      "  Preparing metadata (setup.py): finished with status 'done'\n",
      "Collecting toolz (from minikanren)\n",
      "  Downloading toolz-0.12.1-py3-none-any.whl.metadata (5.1 kB)\n",
      "Collecting cons>=0.4.0 (from minikanren)\n",
      "  Downloading cons-0.4.6.tar.gz (26 kB)\n",
      "  Preparing metadata (setup.py): started\n",
      "  Preparing metadata (setup.py): finished with status 'done'\n",
      "Collecting multipledispatch (from minikanren)\n",
      "  Downloading multipledispatch-1.0.0-py3-none-any.whl.metadata (3.8 kB)\n",
      "Collecting etuples>=0.3.1 (from minikanren)\n",
      "  Downloading etuples-0.3.9.tar.gz (30 kB)\n",
      "  Preparing metadata (setup.py): started\n",
      "  Preparing metadata (setup.py): finished with status 'done'\n",
      "Collecting logical-unification>=0.4.1 (from minikanren)\n",
      "  Downloading logical-unification-0.4.6.tar.gz (31 kB)\n",
      "  Preparing metadata (setup.py): started\n",
      "  Preparing metadata (setup.py): finished with status 'done'\n",
      "Downloading multipledispatch-1.0.0-py3-none-any.whl (12 kB)\n",
      "Downloading toolz-0.12.1-py3-none-any.whl (56 kB)\n",
      "   ---------------------------------------- 0.0/56.1 kB ? eta -:--:--\n",
      "   ---------------------------------------- 56.1/56.1 kB 1.4 MB/s eta 0:00:00\n",
      "Building wheels for collected packages: minikanren, cons, etuples, logical-unification\n",
      "  Building wheel for minikanren (setup.py): started\n",
      "  Building wheel for minikanren (setup.py): finished with status 'done'\n",
      "  Created wheel for minikanren: filename=miniKanren-1.0.3-py3-none-any.whl size=23948 sha256=834d263c91358fdbbf30e99a8da2ae5343672d93d027d59a7ca9ec78b84574a7\n",
      "  Stored in directory: c:\\users\\admin\\appdata\\local\\pip\\cache\\wheels\\57\\48\\e3\\441a42666f9a4ac9ccb6897d6046d81cf970c986be39938c6e\n",
      "  Building wheel for cons (setup.py): started\n",
      "  Building wheel for cons (setup.py): finished with status 'done'\n",
      "  Created wheel for cons: filename=cons-0.4.6-py3-none-any.whl size=9134 sha256=fd6ed5e7769d6c999218ac80c65b3c1575ecfeaf6c8c921bde1aaba8a4c0f0fc\n",
      "  Stored in directory: c:\\users\\admin\\appdata\\local\\pip\\cache\\wheels\\91\\0c\\f7\\7ba4ffbf0db6bf272bee59789131f6ec2d26966307a3054267\n",
      "  Building wheel for etuples (setup.py): started\n",
      "  Building wheel for etuples (setup.py): finished with status 'done'\n",
      "  Created wheel for etuples: filename=etuples-0.3.9-py3-none-any.whl size=12659 sha256=5b7121aa23c608ba80afe865f5cd50444345f6380806cc0cfc87a93ea0817928\n",
      "  Stored in directory: c:\\users\\admin\\appdata\\local\\pip\\cache\\wheels\\9e\\ea\\42\\9562f37ce4e92913b74da9bcd504a749f0bf5d42d1d148ca76\n",
      "  Building wheel for logical-unification (setup.py): started\n",
      "  Building wheel for logical-unification (setup.py): finished with status 'done'\n",
      "  Created wheel for logical-unification: filename=logical_unification-0.4.6-py3-none-any.whl size=13952 sha256=9e976e9d978b3c380d3f5bf63684421501a1a64ba06eb22fa70440be623f3eb5\n",
      "  Stored in directory: c:\\users\\admin\\appdata\\local\\pip\\cache\\wheels\\4b\\07\\cf\\3fdaedafc40d7b1861c98be0df1bf3b2b3e87e03187fa95298\n",
      "Successfully built minikanren cons etuples logical-unification\n",
      "Installing collected packages: multipledispatch, toolz, logical-unification, cons, etuples, minikanren\n",
      "Successfully installed cons-0.4.6 etuples-0.3.9 logical-unification-0.4.6 minikanren-1.0.3 multipledispatch-1.0.0 toolz-0.12.1\n",
      "Note: you may need to restart the kernel to use updated packages.\n"
     ]
    }
   ],
   "source": [
    "pip install minikanren"
   ]
  },
  {
   "cell_type": "markdown",
   "id": "429477b7-4ddf-4f79-9ee8-d7d95da57d60",
   "metadata": {},
   "source": [
    "Exercise 1"
   ]
  },
  {
   "cell_type": "code",
   "execution_count": 6,
   "id": "20bf907a-59f3-4402-a611-a0cdf80bc664",
   "metadata": {},
   "outputs": [],
   "source": [
    "import json\n",
    "from kanren import Relation, facts, run, conde, var, eq"
   ]
  },
  {
   "cell_type": "code",
   "execution_count": 7,
   "id": "5dc5fc95-c7e6-4d83-bbc0-c092a0855ce6",
   "metadata": {},
   "outputs": [],
   "source": [
    "# Check if 'x' is the parent of 'y'\n",
    "def parent(x, y):\n",
    "    return conde([father(x,y)], [mother(x,y)])\n",
    "\n",
    "# Check if 'x' is the grandparent of 'y'\n",
    "def grandparent(x, y):\n",
    "    temp = var()\n",
    "    return conde((parent(x,temp), parent(temp, y)))\n",
    "\n",
    "# Check for sibling relationship between 'a' and 'b'\n",
    "def sibling(x, y):\n",
    "    temp = var()\n",
    "    return conde((parent(temp, x), parent(temp, y)))\n",
    "\n",
    "# Check if x is y's uncle\n",
    "def uncle(x, y):\n",
    "    temp = var()\n",
    "    return conde((father(temp, x), grandparent(temp, y)))"
   ]
  },
  {
   "cell_type": "code",
   "execution_count": 9,
   "id": "4b9bf226-a32a-44aa-9ef2-10116e5af8ac",
   "metadata": {},
   "outputs": [],
   "source": [
    "# print(\"__name__ : \", __name__)\n",
    "if __name__ == '__main__':\n",
    "    father = Relation() # creating an instance of Relation (instantiating)\n",
    "    mother = Relation()\n",
    "    \n",
    "    with open('relationships.json', 'r') as f:\n",
    "        d=json.loads(f.read())\n",
    "        \n",
    "    for item in d['father']:\n",
    "        facts(father, (list(item.keys())[0],list(item.values())[0]))\n",
    "      \n",
    "    for item in d['mother']:\n",
    "        facts(mother, (list(item.keys())[0],list(item.values())[0]))\n",
    "\n",
    "    x = var()"
   ]
  },
  {
   "cell_type": "code",
   "execution_count": 10,
   "id": "5ed186af-ce36-4509-bf84-d23313f3c17a",
   "metadata": {},
   "outputs": [
    {
     "name": "stdout",
     "output_type": "stream",
     "text": [
      "Johnchildren are : \n",
      "David\n",
      "William\n",
      "Adam\n"
     ]
    }
   ],
   "source": [
    "# John's children\n",
    "name = 'John'\n",
    "output = run(0, x, father(name, x))\n",
    "\n",
    "print(name + 'children are : ')\n",
    "\n",
    "for item in output:\n",
    "    print(item)\n"
   ]
  },
  {
   "cell_type": "code",
   "execution_count": 11,
   "id": "9487e050-2456-45ec-87c5-b04d5751f539",
   "metadata": {},
   "outputs": [
    {
     "name": "stdout",
     "output_type": "stream",
     "text": [
      "Adamparents are: \n",
      "Sophia\n"
     ]
    }
   ],
   "source": [
    "# Adam's parents\n",
    "name = 'Adam'\n",
    "output = run(0, x, parent(name, x))\n",
    "\n",
    "print(name + 'parents are: ')\n",
    "\n",
    "for item in output:\n",
    "    print(item)"
   ]
  },
  {
   "cell_type": "code",
   "execution_count": 13,
   "id": "0ddbd727-c5f9-4db5-b72b-07a63ecba318",
   "metadata": {},
   "outputs": [
    {
     "name": "stdout",
     "output_type": "stream",
     "text": [
      "Meganfc are :  ('Sophia', 'Wayne', 'Chris', 'Neil', 'Stephanie', 'Tiffany', 'Julie', 'Peter')\n"
     ]
    }
   ],
   "source": [
    "# Megan's grandchildren\n",
    "name = 'Megan'\n",
    "output = run(0, x, grandparent(name, x))\n",
    "\n",
    "print(name + 'fc are : ', output)"
   ]
  },
  {
   "cell_type": "code",
   "execution_count": 14,
   "id": "3dfa56fd-0ae3-4971-a681-5e63c9a056a1",
   "metadata": {},
   "outputs": [
    {
     "name": "stdout",
     "output_type": "stream",
     "text": [
      "Davidsiblings are: \n",
      "David\n",
      "David\n",
      "Adam\n",
      "Adam\n",
      "William\n",
      "William\n"
     ]
    }
   ],
   "source": [
    "# David's siblings\n",
    "name = 'David'\n",
    "output = run(0, x, sibling(name, x))\n",
    "\n",
    "print(name + 'siblings are: ')\n",
    "for item in output:\n",
    "    print(item)\n"
   ]
  },
  {
   "cell_type": "code",
   "execution_count": 15,
   "id": "9fa27136-1da6-4468-aafd-9e33b61cb93a",
   "metadata": {},
   "outputs": [
    {
     "name": "stdout",
     "output_type": "stream",
     "text": [
      "David\n"
     ]
    },
    {
     "data": {
      "text/plain": [
       "['Adam', 'William']"
      ]
     },
     "execution_count": 15,
     "metadata": {},
     "output_type": "execute_result"
    }
   ],
   "source": [
    "# Tiffany's uncles\n",
    "name = 'Tiffany'\n",
    "output = run(0, x, uncle(x, name))\n",
    "father_name = run(1, x, father(x, name))\n",
    "print(father_name[0])\n",
    "[n for n in output if n!=father_name[0]]"
   ]
  },
  {
   "cell_type": "code",
   "execution_count": 16,
   "id": "4a44b851-31c8-4e3e-979a-a9a2dbfd6937",
   "metadata": {
    "scrolled": true
   },
   "outputs": [
    {
     "data": {
      "text/plain": [
       "(('Adam', 'Lily'),\n",
       " ('William', 'Emma'),\n",
       " ('John', 'Megan'),\n",
       " ('David', 'Olivia'),\n",
       " ('John', 'Megan'),\n",
       " ('William', 'Emma'),\n",
       " ('David', 'Olivia'),\n",
       " ('John', 'Megan'),\n",
       " ('David', 'Olivia'),\n",
       " ('David', 'Olivia'))"
      ]
     },
     "execution_count": 16,
     "metadata": {},
     "output_type": "execute_result"
    }
   ],
   "source": [
    "# all spouses\n",
    "a, b, c = var(), var(), var()\n",
    "output = run(0, (a, b), father(a, c), mother(b, c))\n",
    "output"
   ]
  },
  {
   "cell_type": "markdown",
   "id": "91486940-7c67-4285-b1ce-a5d179a74a5a",
   "metadata": {},
   "source": [
    "Exercise 2"
   ]
  },
  {
   "cell_type": "code",
   "execution_count": 17,
   "id": "b6c6a0be-80cc-468c-8941-89e134d1e939",
   "metadata": {},
   "outputs": [],
   "source": [
    "import json \n",
    "from kanren import run, fact, eq, Relation, var, conde"
   ]
  },
  {
   "cell_type": "code",
   "execution_count": 18,
   "id": "ef3d4e91-53c9-493c-9d7e-08cef87956bf",
   "metadata": {},
   "outputs": [],
   "source": [
    "from kanren import run, fact, eq, Relation, var\n",
    "\n",
    "adjacent = Relation()\n",
    "coastal = Relation()"
   ]
  },
  {
   "cell_type": "code",
   "execution_count": 26,
   "id": "0350e70d-41c8-4bba-8b60-1fb8fda6be5b",
   "metadata": {},
   "outputs": [],
   "source": [
    "file_coastal = 'coastal_states.txt'\n",
    "file_adjacent ='adjacent_states.txt'"
   ]
  },
  {
   "cell_type": "code",
   "execution_count": 27,
   "id": "9195fe90-07ec-41b7-b4c8-f960cb35e741",
   "metadata": {},
   "outputs": [],
   "source": [
    "# Read the file containing the coastal states\n",
    "with open(file_coastal, 'r') as f:\n",
    "    line = f.read()\n",
    "    coastal_states = line.split()\n",
    "\n",
    "# Add the info to the fact base\n",
    "for state in coastal_states:\n",
    "    fact(coastal, state)\n",
    "\n",
    "# Read the file containing the coastal states\n",
    "with open(file_adjacent, 'r') as f:\n",
    "    adjlist = [line.strip().split() for line in f if line and line[0].isalpha()]\n",
    "\n",
    "# Add the info to the fact base\n",
    "for L in adjlist:\n",
    "    head, tail = L[0], L[1:]\n",
    "    for state in tail:\n",
    "        fact(adjacent, head, state)"
   ]
  },
  {
   "cell_type": "code",
   "execution_count": 28,
   "id": "a30320fc-b80a-4bf1-b4b5-6387eefe4347",
   "metadata": {},
   "outputs": [],
   "source": [
    "# Initialize the variables\n",
    "x = var()\n",
    "y = var()"
   ]
  },
  {
   "cell_type": "markdown",
   "id": "e01e1470-44e7-4a1f-b812-3ecc2b75969f",
   "metadata": {},
   "source": [
    "#Example 1\n",
    "# Is Nevada adjacent to Louisiana?\n",
    "output = run(0, x, adjacent('Nevada', 'Louisiana'))\n",
    "print('\\nIs Nevada adjacent to Louisiana?:')\n",
    "print('Yes' if len(output) else 'No')"
   ]
  },
  {
   "cell_type": "code",
   "execution_count": 29,
   "id": "0685520c-d248-41ed-939d-2b6ee530e842",
   "metadata": {},
   "outputs": [
    {
     "name": "stdout",
     "output_type": "stream",
     "text": [
      "\n",
      "List of states adjacent to Oregon:\n"
     ]
    }
   ],
   "source": [
    "#Example 2\n",
    "# States adjacent to Oregon\n",
    "output = run(0, x, adjacent('Oregon', x))\n",
    "print('\\nList of states adjacent to Oregon:')\n",
    "for item in output:\n",
    "    print(item)"
   ]
  },
  {
   "cell_type": "code",
   "execution_count": 31,
   "id": "d60b4c3c-9211-45d5-a0d3-5fb2ec626a74",
   "metadata": {},
   "outputs": [
    {
     "name": "stdout",
     "output_type": "stream",
     "text": [
      "\n",
      "List of states adjacent to Mississippi:\n"
     ]
    }
   ],
   "source": [
    "#Example 3\n",
    "# States adjacent to Mississippi that are coastal\n",
    "output = run(0, x, adjacent('oregon', x), coastal(x))\n",
    "print('\\nList of states adjacent to Mississippi:')\n",
    "for item in output:\n",
    "    print(item)"
   ]
  },
  {
   "cell_type": "code",
   "execution_count": 33,
   "id": "eec391c9-d9a7-4f92-acc0-300781d4a232",
   "metadata": {
    "scrolled": true
   },
   "outputs": [
    {
     "name": "stdout",
     "output_type": "stream",
     "text": [
      "\n",
      "List of 7 states that border a coastal state: \n",
      "Maine,New\n"
     ]
    }
   ],
   "source": [
    "#Example of 'n' states that border a coastal state\n",
    "\n",
    "n=7\n",
    "output = run(n, x, coastal(y), adjacent(x,y))\n",
    "print('\\nList of ' +str(n) + ' states that border a coastal state: ')\n",
    "for item in output:\n",
    "    print(item)"
   ]
  },
  {
   "cell_type": "code",
   "execution_count": 34,
   "id": "9551bc50-0033-458b-9aec-591bb664de3d",
   "metadata": {},
   "outputs": [
    {
     "name": "stdout",
     "output_type": "stream",
     "text": [
      "\n",
      "List of states that are adjacent to Arkansas and Kentucky:\n"
     ]
    }
   ],
   "source": [
    "#list of states that adjacent to the two given states\n",
    "output = run(0, x, adjacent('Arkansas', x),adjacent('Kentucky', x))\n",
    "print('\\nList of states that are adjacent to Arkansas and Kentucky:')\n",
    "for item in output:\n",
    "    print(item)"
   ]
  },
  {
   "cell_type": "code",
   "execution_count": null,
   "id": "88e0b692-d8e7-4783-8297-bec75a67d15d",
   "metadata": {},
   "outputs": [],
   "source": []
  },
  {
   "cell_type": "code",
   "execution_count": null,
   "id": "02100237-39fe-4d11-9913-8871062d4588",
   "metadata": {},
   "outputs": [],
   "source": []
  }
 ],
 "metadata": {
  "kernelspec": {
   "display_name": "Python 3 (ipykernel)",
   "language": "python",
   "name": "python3"
  },
  "language_info": {
   "codemirror_mode": {
    "name": "ipython",
    "version": 3
   },
   "file_extension": ".py",
   "mimetype": "text/x-python",
   "name": "python",
   "nbconvert_exporter": "python",
   "pygments_lexer": "ipython3",
   "version": "3.12.3"
  }
 },
 "nbformat": 4,
 "nbformat_minor": 5
}

{
 "cells": [
  {
   "cell_type": "code",
   "execution_count": null,
   "id": "14a9aefc-4fb3-40b0-8e8c-3eb6d0f4e726",
   "metadata": {},
   "outputs": [],
   "source": []
  }
 ],
 "metadata": {
  "kernelspec": {
   "display_name": "",
   "name": ""
  },
  "language_info": {
   "name": ""
  }
 },
 "nbformat": 4,
 "nbformat_minor": 5
}

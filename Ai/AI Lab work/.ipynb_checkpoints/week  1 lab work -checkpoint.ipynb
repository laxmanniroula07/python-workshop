{
 "cells": [
  {
   "cell_type": "code",
   "execution_count": 1,
   "id": "58032d36-0fd0-4ee1-888e-b1cc83e79588",
   "metadata": {},
   "outputs": [
    {
     "name": "stdout",
     "output_type": "stream",
     "text": [
      "1. Fahrenheit to Centigrade\n",
      "2. Centigrade to Fahrenheit\n"
     ]
    },
    {
     "name": "stdin",
     "output_type": "stream",
     "text": [
      "Enter your choice (1 or 2):  1\n",
      "Enter temperature in Fahrenheit:  300\n"
     ]
    },
    {
     "name": "stdout",
     "output_type": "stream",
     "text": [
      "300.0 Fahrenheit is equal to 482.40 Centigrade\n"
     ]
    }
   ],
   "source": [
    "def Fahrenheit_to_Centigrade(Fahrenheit):\n",
    "    #To convert fahrenheit to centigrade\n",
    "    Centigrade = (Fahrenheit - 32) * 1.8\n",
    "    return Centigrade\n",
    "\n",
    "def Centigrade_to_Fahrenheit(Centigrade):\n",
    "    #To convert centigrade to fahrenheit\n",
    "    Fahrenheit = (Centigrade * 1.8) + 32\n",
    "    return Fahrenheit\n",
    "\n",
    "def main():\n",
    "    print(\"1. Fahrenheit to Centigrade\")\n",
    "    print(\"2. Centigrade to Fahrenheit\")\n",
    "    \n",
    "    Select = input(\"Enter your choice (1 or 2): \")\n",
    "    \n",
    "    if Select == '1':\n",
    "        Fahrenheit = float(input(\"Enter temperature in Fahrenheit: \"))\n",
    "        Centigrade = Fahrenheit_to_Centigrade(Fahrenheit)\n",
    "        print(f\"{Fahrenheit} Fahrenheit is equal to {Centigrade:.2f} Centigrade\")\n",
    "    elif Select == '2':\n",
    "        Centigrade = float(input(\"Enter temperature in Centigrade: \"))\n",
    "        Fahrenheit = Centigrade_to_Fahrenheit(Centigrade)\n",
    "        print(f\"{Centigrade} Centigrade is equal to {Fahrenheit:.2f} Fahrenheit\")\n",
    "    else:\n",
    "        print(\"Please enter 1 or 2.\")\n",
    "\n",
    "if __name__ == \"__main__\":\n",
    "    main()\n"
   ]
  },
  {
   "cell_type": "code",
   "execution_count": 3,
   "id": "a196c7f6-7392-414b-b403-f611636ed8f8",
   "metadata": {},
   "outputs": [
    {
     "name": "stdin",
     "output_type": "stream",
     "text": [
      "Enter total number you want to average:  10\n",
      "Enter number 1:  20\n",
      "Enter number 2:  15\n",
      "Enter number 3:  24\n",
      "Enter number 4:  15\n",
      "Enter number 5:  43\n",
      "Enter number 6:  15\n",
      "Enter number 7:  21\n",
      "Enter number 8:  50\n",
      "Enter number 9:  10\n",
      "Enter number 10:  11\n"
     ]
    },
    {
     "name": "stdout",
     "output_type": "stream",
     "text": [
      "The average is: 22.40\n"
     ]
    }
   ],
   "source": [
    "def calculate_average():\n",
    "    total_numbers = int(input(\"Enter total number you want to average: \"))\n",
    "\n",
    "    if total_numbers <= 0:\n",
    "        print(\"Values must be greater than zero.\")\n",
    "        return\n",
    "\n",
    "    total_sum = 0\n",
    "\n",
    "    for i in range(total_numbers):\n",
    "        number = float(input(f\"Enter number {i + 1}: \"))\n",
    "        total_sum += number\n",
    "\n",
    "    average = total_sum / total_numbers\n",
    "    print(f\"The average is: {average:.2f}\")\n",
    "\n",
    "if __name__ == \"__main__\":\n",
    "    calculate_average()\n"
   ]
  },
  {
   "cell_type": "code",
   "execution_count": null,
   "id": "2b5a105d-1fe5-4e7a-a2e2-6e430e99fa6e",
   "metadata": {},
   "outputs": [],
   "source": []
  }
 ],
 "metadata": {
  "kernelspec": {
   "display_name": "Python 3 (ipykernel)",
   "language": "python",
   "name": "python3"
  },
  "language_info": {
   "codemirror_mode": {
    "name": "ipython",
    "version": 3
   },
   "file_extension": ".py",
   "mimetype": "text/x-python",
   "name": "python",
   "nbconvert_exporter": "python",
   "pygments_lexer": "ipython3",
   "version": "3.12.3"
  }
 },
 "nbformat": 4,
 "nbformat_minor": 5
}

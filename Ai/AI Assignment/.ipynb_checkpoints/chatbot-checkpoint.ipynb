{
 "cells": [
  {
   "cell_type": "code",
   "execution_count": null,
   "id": "69c805ca-7432-4639-91e2-aed9236ced20",
   "metadata": {},
   "outputs": [],
   "source": [
    "while True:\n",
    "    ip =input ('chat with  AI')\n",
    "    if ip =='bye' or ip==\"BYE\":\n",
    "        break\n",
    "    if ip!='bye' or ip!=\"BYE\":\n",
    "        reply=kgp.get_response(ip)\n",
    "        print('AI Reply:',reply)"
   ]
  }
 ],
 "metadata": {
  "kernelspec": {
   "display_name": "Python 3 (ipykernel)",
   "language": "python",
   "name": "python3"
  },
  "language_info": {
   "codemirror_mode": {
    "name": "ipython",
    "version": 3
   },
   "file_extension": ".py",
   "mimetype": "text/x-python",
   "name": "python",
   "nbconvert_exporter": "python",
   "pygments_lexer": "ipython3",
   "version": "3.12.3"
  }
 },
 "nbformat": 4,
 "nbformat_minor": 5
}

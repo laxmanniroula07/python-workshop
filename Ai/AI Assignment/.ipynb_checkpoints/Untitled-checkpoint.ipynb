{
 "cells": [
  {
   "cell_type": "code",
   "execution_count": null,
   "id": "37d5f16d-5818-4856-b703-f1227af6d817",
   "metadata": {},
   "outputs": [],
   "source": [
    "while True:\n",
    "    ip =input ('chat with  AI')\n",
    "    if ip =='bye' or ip==\"BYE\":\n",
    "        break\n",
    "    if ip!='bye' or ip!=\"BYE\":\n",
    "        reply=kgp.get_response(ip)\n",
    "        print('AI Reply:',reply)"
   ]
  },
  {
   "cell_type": "code",
   "execution_count": null,
   "id": "ffc9236a-a91d-402d-a95d-59959aefbcd7",
   "metadata": {},
   "outputs": [],
   "source": []
  }
 ],
 "metadata": {
  "kernelspec": {
   "display_name": "Python 3 (ipykernel)",
   "language": "python",
   "name": "python3"
  },
  "language_info": {
   "codemirror_mode": {
    "name": "ipython",
    "version": 3
   },
   "file_extension": ".py",
   "mimetype": "text/x-python",
   "name": "python",
   "nbconvert_exporter": "python",
   "pygments_lexer": "ipython3",
   "version": "3.12.3"
  }
 },
 "nbformat": 4,
 "nbformat_minor": 5
}
